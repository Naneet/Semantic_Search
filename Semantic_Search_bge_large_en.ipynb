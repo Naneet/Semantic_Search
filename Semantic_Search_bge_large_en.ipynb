{
  "nbformat": 4,
  "nbformat_minor": 0,
  "metadata": {
    "colab": {
      "provenance": [],
      "gpuType": "T4",
      "mount_file_id": "12bOY-ls26oqzxJQbBSApPl32eo1hSTXJ",
      "authorship_tag": "ABX9TyOSVEx2UEC5+vnuMAljkrog"
    },
    "kernelspec": {
      "name": "python3",
      "display_name": "Python 3"
    },
    "language_info": {
      "name": "python"
    },
    "accelerator": "GPU"
  },
  "cells": [
    {
      "cell_type": "code",
      "source": [
        "!nvidia-smi"
      ],
      "metadata": {
        "colab": {
          "base_uri": "https://localhost:8080/"
        },
        "id": "2LW8ytMqMvhu",
        "outputId": "4078f7db-837a-4866-bd66-927a9551d815"
      },
      "execution_count": null,
      "outputs": [
        {
          "output_type": "stream",
          "name": "stdout",
          "text": [
            "Tue Mar 11 12:34:38 2025       \n",
            "+-----------------------------------------------------------------------------------------+\n",
            "| NVIDIA-SMI 550.54.15              Driver Version: 550.54.15      CUDA Version: 12.4     |\n",
            "|-----------------------------------------+------------------------+----------------------+\n",
            "| GPU  Name                 Persistence-M | Bus-Id          Disp.A | Volatile Uncorr. ECC |\n",
            "| Fan  Temp   Perf          Pwr:Usage/Cap |           Memory-Usage | GPU-Util  Compute M. |\n",
            "|                                         |                        |               MIG M. |\n",
            "|=========================================+========================+======================|\n",
            "|   0  Tesla T4                       Off |   00000000:00:04.0 Off |                    0 |\n",
            "| N/A   39C    P8              9W /   70W |       0MiB /  15360MiB |      0%      Default |\n",
            "|                                         |                        |                  N/A |\n",
            "+-----------------------------------------+------------------------+----------------------+\n",
            "                                                                                         \n",
            "+-----------------------------------------------------------------------------------------+\n",
            "| Processes:                                                                              |\n",
            "|  GPU   GI   CI        PID   Type   Process name                              GPU Memory |\n",
            "|        ID   ID                                                               Usage      |\n",
            "|=========================================================================================|\n",
            "|  No running processes found                                                             |\n",
            "+-----------------------------------------------------------------------------------------+\n"
          ]
        }
      ]
    },
    {
      "cell_type": "code",
      "source": [
        "!pip install PyMuPDF\n",
        "!pip install langchain\n",
        "!pip install faiss-cpu\n",
        "!pip install transformers\n",
        "!pip install numpy\n",
        "!pip install tqdm\n",
        "!pip install rank-bm25"
      ],
      "metadata": {
        "colab": {
          "base_uri": "https://localhost:8080/"
        },
        "id": "OvAovdU7M5C6",
        "outputId": "a5de53be-1a4d-46f8-d9f3-b41671b81f39"
      },
      "execution_count": null,
      "outputs": [
        {
          "output_type": "stream",
          "name": "stdout",
          "text": [
            "Requirement already satisfied: PyMuPDF in /usr/local/lib/python3.11/dist-packages (1.25.3)\n",
            "Requirement already satisfied: langchain in /usr/local/lib/python3.11/dist-packages (0.3.20)\n",
            "Requirement already satisfied: langchain-core<1.0.0,>=0.3.41 in /usr/local/lib/python3.11/dist-packages (from langchain) (0.3.41)\n",
            "Requirement already satisfied: langchain-text-splitters<1.0.0,>=0.3.6 in /usr/local/lib/python3.11/dist-packages (from langchain) (0.3.6)\n",
            "Requirement already satisfied: langsmith<0.4,>=0.1.17 in /usr/local/lib/python3.11/dist-packages (from langchain) (0.3.11)\n",
            "Requirement already satisfied: pydantic<3.0.0,>=2.7.4 in /usr/local/lib/python3.11/dist-packages (from langchain) (2.10.6)\n",
            "Requirement already satisfied: SQLAlchemy<3,>=1.4 in /usr/local/lib/python3.11/dist-packages (from langchain) (2.0.38)\n",
            "Requirement already satisfied: requests<3,>=2 in /usr/local/lib/python3.11/dist-packages (from langchain) (2.32.3)\n",
            "Requirement already satisfied: PyYAML>=5.3 in /usr/local/lib/python3.11/dist-packages (from langchain) (6.0.2)\n",
            "Requirement already satisfied: tenacity!=8.4.0,<10.0.0,>=8.1.0 in /usr/local/lib/python3.11/dist-packages (from langchain-core<1.0.0,>=0.3.41->langchain) (9.0.0)\n",
            "Requirement already satisfied: jsonpatch<2.0,>=1.33 in /usr/local/lib/python3.11/dist-packages (from langchain-core<1.0.0,>=0.3.41->langchain) (1.33)\n",
            "Requirement already satisfied: packaging<25,>=23.2 in /usr/local/lib/python3.11/dist-packages (from langchain-core<1.0.0,>=0.3.41->langchain) (24.2)\n",
            "Requirement already satisfied: typing-extensions>=4.7 in /usr/local/lib/python3.11/dist-packages (from langchain-core<1.0.0,>=0.3.41->langchain) (4.12.2)\n",
            "Requirement already satisfied: httpx<1,>=0.23.0 in /usr/local/lib/python3.11/dist-packages (from langsmith<0.4,>=0.1.17->langchain) (0.28.1)\n",
            "Requirement already satisfied: orjson<4.0.0,>=3.9.14 in /usr/local/lib/python3.11/dist-packages (from langsmith<0.4,>=0.1.17->langchain) (3.10.15)\n",
            "Requirement already satisfied: requests-toolbelt<2.0.0,>=1.0.0 in /usr/local/lib/python3.11/dist-packages (from langsmith<0.4,>=0.1.17->langchain) (1.0.0)\n",
            "Requirement already satisfied: zstandard<0.24.0,>=0.23.0 in /usr/local/lib/python3.11/dist-packages (from langsmith<0.4,>=0.1.17->langchain) (0.23.0)\n",
            "Requirement already satisfied: annotated-types>=0.6.0 in /usr/local/lib/python3.11/dist-packages (from pydantic<3.0.0,>=2.7.4->langchain) (0.7.0)\n",
            "Requirement already satisfied: pydantic-core==2.27.2 in /usr/local/lib/python3.11/dist-packages (from pydantic<3.0.0,>=2.7.4->langchain) (2.27.2)\n",
            "Requirement already satisfied: charset-normalizer<4,>=2 in /usr/local/lib/python3.11/dist-packages (from requests<3,>=2->langchain) (3.4.1)\n",
            "Requirement already satisfied: idna<4,>=2.5 in /usr/local/lib/python3.11/dist-packages (from requests<3,>=2->langchain) (3.10)\n",
            "Requirement already satisfied: urllib3<3,>=1.21.1 in /usr/local/lib/python3.11/dist-packages (from requests<3,>=2->langchain) (2.3.0)\n",
            "Requirement already satisfied: certifi>=2017.4.17 in /usr/local/lib/python3.11/dist-packages (from requests<3,>=2->langchain) (2025.1.31)\n",
            "Requirement already satisfied: greenlet!=0.4.17 in /usr/local/lib/python3.11/dist-packages (from SQLAlchemy<3,>=1.4->langchain) (3.1.1)\n",
            "Requirement already satisfied: anyio in /usr/local/lib/python3.11/dist-packages (from httpx<1,>=0.23.0->langsmith<0.4,>=0.1.17->langchain) (3.7.1)\n",
            "Requirement already satisfied: httpcore==1.* in /usr/local/lib/python3.11/dist-packages (from httpx<1,>=0.23.0->langsmith<0.4,>=0.1.17->langchain) (1.0.7)\n",
            "Requirement already satisfied: h11<0.15,>=0.13 in /usr/local/lib/python3.11/dist-packages (from httpcore==1.*->httpx<1,>=0.23.0->langsmith<0.4,>=0.1.17->langchain) (0.14.0)\n",
            "Requirement already satisfied: jsonpointer>=1.9 in /usr/local/lib/python3.11/dist-packages (from jsonpatch<2.0,>=1.33->langchain-core<1.0.0,>=0.3.41->langchain) (3.0.0)\n",
            "Requirement already satisfied: sniffio>=1.1 in /usr/local/lib/python3.11/dist-packages (from anyio->httpx<1,>=0.23.0->langsmith<0.4,>=0.1.17->langchain) (1.3.1)\n",
            "Requirement already satisfied: faiss-cpu in /usr/local/lib/python3.11/dist-packages (1.10.0)\n",
            "Requirement already satisfied: numpy<3.0,>=1.25.0 in /usr/local/lib/python3.11/dist-packages (from faiss-cpu) (1.26.4)\n",
            "Requirement already satisfied: packaging in /usr/local/lib/python3.11/dist-packages (from faiss-cpu) (24.2)\n",
            "Requirement already satisfied: transformers in /usr/local/lib/python3.11/dist-packages (4.48.3)\n",
            "Requirement already satisfied: filelock in /usr/local/lib/python3.11/dist-packages (from transformers) (3.17.0)\n",
            "Requirement already satisfied: huggingface-hub<1.0,>=0.24.0 in /usr/local/lib/python3.11/dist-packages (from transformers) (0.28.1)\n",
            "Requirement already satisfied: numpy>=1.17 in /usr/local/lib/python3.11/dist-packages (from transformers) (1.26.4)\n",
            "Requirement already satisfied: packaging>=20.0 in /usr/local/lib/python3.11/dist-packages (from transformers) (24.2)\n",
            "Requirement already satisfied: pyyaml>=5.1 in /usr/local/lib/python3.11/dist-packages (from transformers) (6.0.2)\n",
            "Requirement already satisfied: regex!=2019.12.17 in /usr/local/lib/python3.11/dist-packages (from transformers) (2024.11.6)\n",
            "Requirement already satisfied: requests in /usr/local/lib/python3.11/dist-packages (from transformers) (2.32.3)\n",
            "Requirement already satisfied: tokenizers<0.22,>=0.21 in /usr/local/lib/python3.11/dist-packages (from transformers) (0.21.0)\n",
            "Requirement already satisfied: safetensors>=0.4.1 in /usr/local/lib/python3.11/dist-packages (from transformers) (0.5.3)\n",
            "Requirement already satisfied: tqdm>=4.27 in /usr/local/lib/python3.11/dist-packages (from transformers) (4.67.1)\n",
            "Requirement already satisfied: fsspec>=2023.5.0 in /usr/local/lib/python3.11/dist-packages (from huggingface-hub<1.0,>=0.24.0->transformers) (2024.10.0)\n",
            "Requirement already satisfied: typing-extensions>=3.7.4.3 in /usr/local/lib/python3.11/dist-packages (from huggingface-hub<1.0,>=0.24.0->transformers) (4.12.2)\n",
            "Requirement already satisfied: charset-normalizer<4,>=2 in /usr/local/lib/python3.11/dist-packages (from requests->transformers) (3.4.1)\n",
            "Requirement already satisfied: idna<4,>=2.5 in /usr/local/lib/python3.11/dist-packages (from requests->transformers) (3.10)\n",
            "Requirement already satisfied: urllib3<3,>=1.21.1 in /usr/local/lib/python3.11/dist-packages (from requests->transformers) (2.3.0)\n",
            "Requirement already satisfied: certifi>=2017.4.17 in /usr/local/lib/python3.11/dist-packages (from requests->transformers) (2025.1.31)\n",
            "Requirement already satisfied: numpy in /usr/local/lib/python3.11/dist-packages (1.26.4)\n",
            "Requirement already satisfied: tqdm in /usr/local/lib/python3.11/dist-packages (4.67.1)\n",
            "Requirement already satisfied: rank-bm25 in /usr/local/lib/python3.11/dist-packages (0.2.2)\n",
            "Requirement already satisfied: numpy in /usr/local/lib/python3.11/dist-packages (from rank-bm25) (1.26.4)\n"
          ]
        }
      ]
    },
    {
      "cell_type": "code",
      "source": [
        "import fitz\n",
        "import os\n",
        "from langchain.text_splitter import RecursiveCharacterTextSplitter\n",
        "from transformers import AutoTokenizer, AutoModel\n",
        "import numpy as np\n",
        "import faiss\n",
        "import torch\n",
        "from tqdm import tqdm\n",
        "import pickle\n",
        "from rank_bm25 import BM25Okapi\n",
        "from nltk.tokenize import word_tokenize"
      ],
      "metadata": {
        "id": "MbW0inqIMo44"
      },
      "execution_count": null,
      "outputs": []
    },
    {
      "cell_type": "code",
      "source": [
        "def extract_text_from_pdf(pdf_path):\n",
        "    doc = fitz.open(pdf_path)\n",
        "    pdf = []\n",
        "    for page, text in enumerate(doc):\n",
        "        # text += page.get_text(\"text\") + \"\\n\"  # Extract text from each page\n",
        "        pdf.append({\n",
        "            'text' : text.get_text('text'),\n",
        "            'page' : page\n",
        "        })\n",
        "    return pdf\n",
        "\n",
        "# pdf_text = extract_text_from_pdf(r\"D:\\legal_dataset\\Ajay_Kumar_Singla_Ors_vs_State_Of_Punjab_Ors_on_16_February_2023.PDF\")"
      ],
      "metadata": {
        "id": "elUJIlrpNQHI"
      },
      "execution_count": null,
      "outputs": []
    },
    {
      "cell_type": "code",
      "source": [
        "# pdf_text"
      ],
      "metadata": {
        "colab": {
          "base_uri": "https://localhost:8080/"
        },
        "collapsed": true,
        "id": "7A1UtnrZiJam",
        "outputId": "264d07d2-fde6-44f8-8d13-0c7a7f9a3c4b"
      },
      "execution_count": null,
      "outputs": [
        {
          "output_type": "execute_result",
          "data": {
            "text/plain": [
              "[{'text': 'Ajay Kumar Singla & Ors vs State Of Punjab & Ors on 16\\nFebruary, 2023\\nAuthor: M.S. Ramachandra Rao\\nBench: M.S. Ramachandra Rao\\n                                                Neutral Citation No:=2023:PHHC:029128-DB\\n       IN THE HIGH COURT OF PUNJAB AND HARYANA AT\\n                           CHANDIGARH\\n                              ****\\n1.                                       CWP-17064-2017\\nAjay Kumar Singla & Others\\n                                            .... Petitioners\\n                              Versus\\nState of Punjab and Others\\n                                           .... Respondents\\n                              ****\\n2.                                       CWP-6232-2017\\nMohammad Daud Alam and Others\\n                                            .... Petitioners\\n                              Versus\\nState of Punjab and Others\\n                                           .... Respondents\\n                              ****\\n3.                                       CWP-15869-2017\\nGurcharan Singh and Others\\n                                            .... Petitioners\\n                              versus\\nState of Punjab and Others\\n                                           .... Respondents\\n                              ****\\n4.                                       CWP-6062-2019\\nBickramjit Singh\\n                                            .... Petitioners\\n                              versus\\nState of Punjab and Others\\n                                           .... Respondents\\n                                 ****\\n5.                                       CWP-31056-2018\\nAnita and another\\n                                            .... Petitioners\\n                              versus\\nState of Punjab and Others\\n                                           .... Respondents\\n                              ****\\nAjay Kumar Singla & Ors vs State Of Punjab & Ors on 16 February, 2023\\nIndian Kanoon - http://indiankanoon.org/doc/178533926/\\n1\\n',\n",
              "  'page': 0},\n",
              " {'text': '6.                                       CWP-12522-2019\\nJaswinder Singh and Others\\n                                            .... Petitioners\\n                              versus\\nState of Punjab & Another\\n                                           .... Respondents\\n                              ****\\n7.                                       CWP-31137-2018\\nKulbir Singh\\n                                             .... Petitioner\\n                              versus\\nState of Punjab & Another\\n                                           .... Respondents\\n                              ****\\n                              1 of 36\\n           ::: Downloaded on - 31-05-2023 02:54:12 :::\\n                                                       Neutral Citation No:=2023:PHHC:02\\nCWP-17064-2017 and connected matters\\n                                       Page 2 of 36\\n8.                                                             CWP-31003-2018\\nGagandeep Bhardwaj\\n                                                                     .... Petitioners\\n                                          versus\\nState of Punjab & Others\\n                                                                   .... Respondents\\n                                           ****\\n9.                                                             CWP-31040-2018\\nDr. Amandeep Singh Brar & Others\\n                                                                     .... Petitioners\\n                                          versus\\nState of Punjab & Another\\n                                                                   .... Respondents\\n                                           ****\\n10.                                                            CWP-25889-2018\\nGagandeep & Others\\n                                                                     .... Petitioners\\n                                          versus\\nState of Punjab & Another\\n                                                                   .... Respondents\\n                                           ****\\n11.                                                            CWP-31010-2018\\nNavjeet Kaur & Another\\n                                                                     .... Petitioners\\n                                          versus\\nAjay Kumar Singla & Ors vs State Of Punjab & Ors on 16 February, 2023\\nIndian Kanoon - http://indiankanoon.org/doc/178533926/\\n2\\n',\n",
              "  'page': 1},\n",
              " {'text': 'State of Punjab & Others\\n                                                                   .... Respondents\\n                                           ****\\n12.                                                            CWP-29461-2018\\nTara Chand\\n                                                                     .... Petitioners\\n                                          versus\\nState of Punjab & Others\\n                                                                   .... Respondents\\n                                           ****\\n13.                                                            CWP-30891-2018\\nChandan Kumar Singh & Others\\n                                                                     .... Petitioners\\n                               versus\\nGuru Angad Dev Veterinary and Animal Sciences University, Ludhiana\\n                                                                   .... Respondents\\n                                           ****\\n14.                                                            CWP-25940-2018\\nGurminder Singh Randhawa & Others\\n                                                                     .... Petitioners\\n                                          versus\\nState of Punjab & Others\\n                                                                   .... Respondents\\n                                           ****\\n                                       2 of 36\\n                ::: Downloaded on - 31-05-2023 02:54:12 :::\\n                                                       Neutral Citation No:=2023:PHHC:02\\nCWP-17064-2017 and connected matters\\n                                       Page 3 of 36\\n15.                                                            CWP-29351-2018\\nRajpal Singh & Others\\n                                                                     .... Petitioners\\n                                          versus\\nState of Punjab & Others\\n                                                                   .... Respondents\\n                                           ****\\n16.                                                            CWP-29355-2018\\nGouravjeet Singh & Others\\n                                                                     .... Petitioners\\n                                          versus\\nState of Punjab & Others\\nAjay Kumar Singla & Ors vs State Of Punjab & Ors on 16 February, 2023\\nIndian Kanoon - http://indiankanoon.org/doc/178533926/\\n3\\n',\n",
              "  'page': 2},\n",
              " {'text': '                                                                   .... Respondents\\n                                           ****\\n17.                                                            CWP-31105-2018\\nChanan Ram & Others\\n                                                                     .... Petitioners\\n                                          versus\\nState of Punjab & Others                                          .... Respondents\\n18.                                                            CWP-25919-2018\\nGurpreet Singh & Others\\n                                                                     .... Petitioners\\n                                          versus\\nState of Punjab & Others\\n                                                                   .... Respondents\\n                                           ****\\n19.                                                              CWP-4964-2019\\nPunit Gupta & Others\\n                                                                     .... Petitioners\\n                                          versus\\nState of Punjab & Another\\n                                                                   .... Respondents\\n                                            ****\\n20.                                                            CWP-7966-2019\\nSumitpal Kaur\\n                                                                     .... Petitioners\\n                                          versus\\nState of Punjab & Others\\n                                                                   .... Respondents\\n                                           ****\\n21.                                                            CWP-8755-2019\\nSukhchain Singh & Others\\n                                                                     .... Petitioners\\n                                          versus\\nState of Punjab & Others\\n                                                                   .... Respondents\\n                                           ****\\n                                       3 of 36\\n                ::: Downloaded on - 31-05-2023 02:54:12 :::\\n                                                        Neutral Citation No:=2023:PHHC:0\\nCWP-17064-2017 and connected matters\\n                                       Page 4 of 36\\n22.                                                             CWP-26033-2018\\nAjay Kumar Singla & Ors vs State Of Punjab & Ors on 16 February, 2023\\nIndian Kanoon - http://indiankanoon.org/doc/178533926/\\n4\\n',\n",
              "  'page': 3},\n",
              " {'text': 'Kulwinder Singh & Another\\n                                                                      .... Petitioners\\n                                          versus\\nState of Punjab & Others\\n                                                                    .... Respondents\\n                                           ****\\n23.                                                             CWP-25727-2018\\nGurwant Singh & Others\\n                                                                      .... Petitioners\\n                                          versus\\nState of Punjab & another\\n                                                                    .... Respondents\\n                                           ****\\n24.                                                             CWP-26014-2018\\nBaljit Singh & Others\\n                                                                      .... Petitioners\\n                                          versus\\nState of Punjab\\n                                                                     .... Respondent\\n                                           ****\\n25.                                                             CWP-28972-2018\\nDeepak Kumar & Others\\n                                                                     .... Petitioners\\n                                          versus\\nState of Punjab through Principal Secretary, Dept. of Finance & Others\\n                                                            .... Respondents\\n                                    ****\\n26.                                                       CWP-11788-2019\\nUrvinder Kaur\\n                                                              .... Petitioners\\n                                   versus\\nState of Punjab & Others\\n                                                            .... Respondents\\n                                    ****\\n27.                                                       CWP-4573-2019\\nSimerjit Kaur & Others\\n                                                              .... Petitioners\\n                                   versus\\nState of Punjab & Others\\n                                                            .... Respondents\\n                                    ****\\n28.                                                       CWP-28204-2018\\nAmandeep Kaur\\n                                                               .... Petitioner\\n                                   versus\\nState of Punjab & Others\\n                                                            .... Respondents\\n                                       4 of 36\\n                  ::: Downloaded on - 31-05-2023 02:54:12 :::\\n                                                       Neutral Citation No:=2023:PHHC:02\\nAjay Kumar Singla & Ors vs State Of Punjab & Ors on 16 February, 2023\\nIndian Kanoon - http://indiankanoon.org/doc/178533926/\\n5\\n',\n",
              "  'page': 4},\n",
              " {'text': 'CWP-17064-2017 and connected matters\\n                                       Page 5 of 36\\n                                           ****\\n29.                                                            CWP-30924-2018\\nKulwinder Singh & Others\\n                                                                     .... Petitioners\\n                                          versus\\nState of Punjab & Others\\n                                                                   .... Respondents\\n                                           ****\\n30.                                                            CWP-5399-2022\\nGurmeet Singh Girn & Others\\n                                                                     .... Petitioners\\n                                          versus\\nState of Punjab & Another\\n                                                                   .... Respondents\\n                                           ****\\n31.                                                            CWP-3466-2018\\nRajesh Chauhan & Others\\n                                                                     .... Petitioners\\n                                          versus\\nState of Punjab & Others\\n                                                                   .... Respondents\\n                                           ****\\n32.                                                            CWP-25019-2017\\nLovepreet Singh & Another.\\n                                                                     .... Petitioners\\n                                          versus\\nState of Punjab & Others\\n                                                                   .... Respondents\\n                                           ****\\n33.                                                            CWP-23206-2017\\nAmarjit Singh & Others\\n                                                                     .... Petitioners\\n                                          versus\\nState of Punjab & Others\\n                                                                   .... Respondents\\n                                           ****\\n34.                                                            CWP-19162-2017\\nSatbir Singh & Others\\n                                                                     .... Petitioners\\n                                          versus\\nState of Punjab & Others\\n                                                                   .... Respondents\\n                                           ****\\n35.                                                            CWP-7834-2017\\nDr. Vikramjot Singh & Others\\nAjay Kumar Singla & Ors vs State Of Punjab & Ors on 16 February, 2023\\nIndian Kanoon - http://indiankanoon.org/doc/178533926/\\n6\\n',\n",
              "  'page': 5},\n",
              " {'text': '                                                                     .... Petitioners\\n                                          versus\\nState of Punjab & Others\\n                                                                   .... Respondents\\n                                           ****\\n                                       5 of 36\\n                ::: Downloaded on - 31-05-2023 02:54:12 :::\\n                                                        Neutral Citation No:=2023:PHHC:0\\nCWP-17064-2017 and connected matters\\n                                       Page 6 of 36\\n36.                                                             CWP-23710-2018\\nVishavpal Goyal & Others\\n                                                                      .... Petitioners\\n                                          versus\\nState of Punjab\\n                                                                     .... Respondent\\n                                           ****\\n37.                                                             CWP-13922-2017\\nGurpreet Singh & Others\\n                                                                      .... Petitioners\\n                                          versus\\nState of Punjab and Others\\n                                                                    .... Respondents\\n                                           ****\\n38.                                                             CWP-19909-2017\\nJagtar Singh and Others\\n                                                                      .... Petitioners\\n                                          versus\\nState of Punjab and Others\\n                                                                    .... Respondents\\n                                           ****\\n39.                                                              CWP-17673-2017\\nSukhjinder Kaur\\n                                                                      .... Petitioners\\n                                          Versus\\nState of Punjab and Others\\n                                                                    .... Respondents\\n                                           ****\\n40.                                                             CWP-16115-2017\\nChamkaur Singh and Others\\n                                                                      .... Petitioners\\n                                          Versus\\nState of Punjab and Others\\nAjay Kumar Singla & Ors vs State Of Punjab & Ors on 16 February, 2023\\nIndian Kanoon - http://indiankanoon.org/doc/178533926/\\n7\\n',\n",
              "  'page': 6},\n",
              " {'text': '                                                                    .... Respondents\\n                                           ****\\n41.                                                             CWP-19910-2017\\nRanjit Singh Dhillon & Others\\n                                                                      .... Petitioners\\n                                          Versus\\nState of Punjab and Another\\n                                                                    .... Respondents\\n                                           ****\\n42.                                                             CWP-22484-2017\\nHarpal Singh and Others\\n                                                                      .... Petitioners\\n                                          versus\\nState of Punjab and Others\\n                                                                    .... Respondents\\n                                       6 of 36\\n                  ::: Downloaded on - 31-05-2023 02:54:12 :::\\n                                                       Neutral Citation No:=2023:PHHC:02\\nCWP-17064-2017 and connected matters\\n                                       Page 7 of 36\\n                                           ****\\n43.                                                            CWP-27410-2017\\nHarman Singh Rehal and Another.\\n                                                                     .... Petitioners\\n                                          versus\\nState of Punjab and Another\\n                                                                   .... Respondents\\n                                           ****\\n44.                                                            CWP-31727-2019\\nGurpreet Singh and Others\\n                                                                     .... Petitioners\\n                                          versus\\nState of Punjab and Another\\n                                                                   .... Respondents\\n                                           ****\\n45.                                                            CWP-23213-2019\\nAnkush Jindal and Others\\n                                                                     .... Petitioners\\n                                          versus\\nState of Punjab and Another\\n                                                                   .... Respondents\\n                                           ****\\n46.                                                            CWP-35879-2019\\nAmritpal Singh Randhawa\\nAjay Kumar Singla & Ors vs State Of Punjab & Ors on 16 February, 2023\\nIndian Kanoon - http://indiankanoon.org/doc/178533926/\\n8\\n',\n",
              "  'page': 7},\n",
              " {'text': '                                                                     .... Petitioners\\n                                          versus\\nState of Punjab and Others\\n                                                                   .... Respondents\\n                                           ****\\n47.                                                            CWP-33835-2019\\nNavdeep Singh Chahal and Others\\n                                                                     .... Petitioners\\n                                          versus\\nState of Punjab and Others\\n                                                                   .... Respondents\\n                                           ****\\n48.                                                            CWP-20755-2019\\nSushil Kumar and Others\\n                                                                     .... Petitioners\\n                                          versus\\nState of Punjab and Others\\n                                                                   .... Respondents\\n                                           ****\\n49.                                                            CWP-34747-2019\\nGurvinder Singh and Others\\n                                                                     .... Petitioners\\n                                          versus\\nState of Punjab and Others\\n                                                                   .... Respondents\\n                                       7 of 36\\n                ::: Downloaded on - 31-05-2023 02:54:12 :::\\n                                                       Neutral Citation No:=2023:PHHC:02\\nCWP-17064-2017 and connected matters\\n                                       Page 8 of 36\\n                                           ****\\n50.                                                            CWP-6404-2020\\nJagjit Singh and Others\\n                                                                     .... Petitioners\\n                                          versus\\nState of Punjab and Others\\n                                                                   .... Respondents\\n                                           ****\\n51.                                                            CWP-19967-2019\\nJagdeep Sangar and Others\\n                                                                     .... Petitioners\\n                                          versus\\nState of Punjab and Others\\nAjay Kumar Singla & Ors vs State Of Punjab & Ors on 16 February, 2023\\nIndian Kanoon - http://indiankanoon.org/doc/178533926/\\n9\\n',\n",
              "  'page': 8},\n",
              " {'text': '                                                                   .... Respondents\\n                                           ****\\n52.                                                            CWP-15642-2019\\nHarleen Kaur and Others\\n                                                                     .... Petitioners\\n                                          versus\\nState of Punjab and Others\\n                                                                   .... Respondents\\n                                           ****\\n53.                                                            CWP-35680-2019\\nMadhav Jindal and Others\\n                                                                     .... Petitioners\\n                                          versus\\nState of Punjab and Another\\n                                                                   .... Respondents\\n                                           ****\\n54.                                                            CWP-33303-2019\\nPartik Bansal and Others\\n                                                                     .... Petitioners\\n                                          versus\\nState of Punjab and Others\\n                                                                   .... Respondents\\n                                           ****\\n55.                                                            CWP-36464-2019\\nDavinder Singh and Others                                          .... Petitioners\\n                                          versus\\nState of Punjab and Others\\n                                                                   .... Respondents\\n                                           ****\\n56.                                                              CWP-5432-2020\\nGurvinder Singh and Others\\n                                                                     .... Petitioners\\n                                          versus\\nState of Punjab and Others\\n                                                                   .... Respondents\\n                                       8 of 36\\n                ::: Downloaded on - 31-05-2023 02:54:12 :::\\n                                                       Neutral Citation No:=2023:PHHC:02\\nCWP-17064-2017 and connected matters\\n                                       Page 9 of 36\\n                                           ****\\n57.                                                            CWP-35332-2019\\nAjay Kumar Singla & Ors vs State Of Punjab & Ors on 16 February, 2023\\nIndian Kanoon - http://indiankanoon.org/doc/178533926/\\n10\\n',\n",
              "  'page': 9},\n",
              " {'text': 'Baljinder Kaur and Another\\n                                                                     .... Petitioners\\n                                          versus\\nState of Punjab and Others\\n                                                                   .... Respondents\\n                                           ****\\n58.                                                            CWP-12100-2022\\nPankaj Khatana\\n                                                                     .... Petitioners\\n                                          versus\\nState of Punjab and Others\\n                                                                   .... Respondents\\n                                           ****\\n59.                                                            CWP-13197-2020\\nLovepreet Singh and Others\\n                                                                     .... Petitioners\\n                                          versus\\nState of Punjab and Others\\n                                                                   .... Respondents\\n                                           ****\\n60.                                                            CWP-26291-2022\\nKirti Garg and Others\\n                                                                     .... Petitioners\\n                                          versus\\nState of Punjab and Others\\n                                                                   .... Respondents\\n                                           ****\\n61.                                                            CWP-25984-2022\\nKapil Garg and Others\\n                                                                     .... Petitioners\\n                                          versus\\nState of Punjab and Others\\n                                                                   .... Respondents\\n                                           ****\\n62.                                                            CWP-18118-2022\\nMalkeet Singh and Others\\n                                                                     .... Petitioners\\n                                          versus\\nState of Punjab and Others\\n                                                                   .... Respondents\\n                                           ****\\n63.                                                            CWP-10346-2022\\nPunjab Agricultural University Teacher Association\\n                                                                     .... Petitioners\\n                                          versus\\nThe Punjab Agricultural University and Others\\n                                                                   .... Respondents\\n                                       9 of 36\\n                ::: Downloaded on - 31-05-2023 02:54:12 :::\\nAjay Kumar Singla & Ors vs State Of Punjab & Ors on 16 February, 2023\\nIndian Kanoon - http://indiankanoon.org/doc/178533926/\\n11\\n',\n",
              "  'page': 10},\n",
              " {'text': '                                                      Neutral Citation No:=2023:PHHC:029\\nCWP-17064-2017 and connected matters\\n                                   Page 10 of 36\\n                                        ****\\n64.                                                           CWP-11260-2022\\nInderpal Singh and Others\\n                                                                    .... Petitioners\\n                                       versus\\nState of Punjab and Others\\n                                                                  .... Respondents\\n                                        ****\\n65.                                                           CWP-1729-2018\\nHarbinder Singh and Others\\n                                                                    .... Petitioners\\n                                       versus\\nState of Punjab and Others\\n                                                                  .... Respondents\\n                                        ****\\n66.                                                           CWP-3061-2018\\nSaurabh Nath & Others\\n                                                                    .... Petitioners\\n                                       versus\\nState of Punjab and Others\\n                                                                  .... Respondents\\n                                        ****\\n67.                                                             CWP-1728-2018\\nSandeep Vinayak & Others\\n                                                                    .... Petitioners\\n                                       versus\\nState of Punjab and Others\\n                                                                  .... Respondents\\n                                        ****\\n68.                                                             CWP-3579-2018\\nRevenue Union Irrigation Department Punjab\\n                                                                    .... Petitioners\\n                                       versus\\nState of Punjab and Others\\n                                                                  .... Respondents\\n                                        ****\\n69.                                                           CWP-3354-2018\\nPrabhjot Singh & Others\\n                                                                    .... Petitioners\\n                                       versus\\nState of Punjab and Others\\n                                                                  .... Respondents\\n                                        ****\\n70.                                                           CWP-6584-2018\\nAjay Kumar Singla & Ors vs State Of Punjab & Ors on 16 February, 2023\\nIndian Kanoon - http://indiankanoon.org/doc/178533926/\\n12\\n',\n",
              "  'page': 11},\n",
              " {'text': 'Bakshish Singh and Others\\n                                                                    .... Petitioners\\n                                       versus\\nState of Punjab and Others\\n                                                                  .... Respondents\\n                                        ****\\n                                   10 of 36\\n                ::: Downloaded on - 31-05-2023 02:54:12 :::\\n                                                      Neutral Citation No:=2023:PHHC:029\\nCWP-17064-2017 and connected matters\\n                                   Page 11 of 36\\n71.                                                           CWP-1681-2018\\nSarbjit Singh & Others\\n                                                                    .... Petitioners\\n                                       versus\\nState of Punjab and Others\\n                                                                  .... Respondents\\n                                        ****\\n72.                                                           CWP-2476-2018\\nMandeep Singh and Others\\n                                                                    .... Petitioners\\n                                       versus\\nState of Punjab and Others\\n                                                                  .... Respondents\\n                                        ****\\n73.                                                           CWP-7958-2018\\nAjay Singh and Others\\n                                                                    .... Petitioners\\n                                       versus\\nState of Punjab and Others\\n                                                                  .... Respondents\\n                                        ****\\n74.                                                           CWP-6735-2018\\nJoginder Pal\\n                                                                    .... Petitioners\\n                                       versus\\nState of Punjab and Others\\n                                                                  .... Respondents\\n                                        ****\\n75.                                                           CWP-1713-2018\\nHarmanpreet Singh and Others\\n                                                                    .... Petitioners\\nAjay Kumar Singla & Ors vs State Of Punjab & Ors on 16 February, 2023\\nIndian Kanoon - http://indiankanoon.org/doc/178533926/\\n13\\n',\n",
              "  'page': 12},\n",
              " {'text': '                                       versus\\nState of Punjab and Others\\n                                                                  .... Respondents\\n                                        ****\\n76.                                                           CWP-1696-2018\\nManinder Kaur & Others\\n                                                                    .... Petitioners\\n                                       versus\\nState of Punjab and Others\\n                                                                  .... Respondents\\n                                        ****\\n77.                                                           CWP-5354-2018\\nVarinder Kumar and Others\\n                                                                    .... Petitioners\\n                                       versus\\nState of Punjab and Others\\n                                                                  .... Respondents\\n                                        ****\\n                                   11 of 36\\n                ::: Downloaded on - 31-05-2023 02:54:12 :::\\n                                                        Neutral Citation No:=2023:PHHC:0\\nCWP-17064-2017 and connected matters\\n                                     Page 12 of 36\\n78.                                                             CWP-3332-2018\\nAmandeep Joshi and Others\\n                                                                      .... Petitioners\\n                                        versus\\nState of Punjab and Others\\n                                                                    .... Respondents\\n                                         ****\\n79.                                                             CWP-16779-2018\\nJagdeep Singh and Others\\n                                                                      .... Petitioners\\n                                        versus\\nState of Punjab and Others\\n                                                                    .... Respondents\\n                                         ****\\n80.                                                             CWP-6888-2018\\nManpreet Singh Etc.\\n                                                                      .... Petitioners\\n                                        versus\\nState of Punjab and Others\\n                                                                    .... Respondents\\n                                         ****\\nAjay Kumar Singla & Ors vs State Of Punjab & Ors on 16 February, 2023\\nIndian Kanoon - http://indiankanoon.org/doc/178533926/\\n14\\n',\n",
              "  'page': 13},\n",
              " {'text': '81.                                                             CWP-3052-2018\\nRohit Mehra & Others\\n                                                                      .... Petitioners\\n                                        versus\\nState of Punjab\\n                                                                    .... Respondents\\n                                         ****\\n82.                                                             CWP-3353-2018\\nBhim Singh and Others\\n                                                                      .... Petitioners\\n                                        versus\\nState of Punjab and Others\\n                                                                    .... Respondents\\n                                         ****\\n83.                                                             CWP-24420-2017\\nSukhpreet Singh and Others\\n                                                                      .... Petitioners\\n                                        versus\\nState of Punjab and Another\\n                                                                    .... Respondents\\n                                         ****\\n84.                                                             CWP-6045-2018\\nTejinder Singh and Others\\n                                                                      .... Petitioners\\n                                        versus\\nState of Punjab and Others\\n                                                                    .... Respondents\\n                                         ****\\n                                    12 of 36\\n                  ::: Downloaded on - 31-05-2023 02:54:12 :::\\n                                                      Neutral Citation No:=2023:PHHC:029\\nCWP-17064-2017 and connected matters\\n                                   Page 13 of 36\\n                                        ****\\n85.                                                           CWP-1106-2018\\nGurjinder Singh and Others\\n                                                                    .... Petitioners\\n                                       versus\\nState of Punjab and Others\\n                                                                  .... Respondents\\n                                        ****\\n86.                                                           CWP-3862-2018\\nAjay Kumar Singla & Ors vs State Of Punjab & Ors on 16 February, 2023\\nIndian Kanoon - http://indiankanoon.org/doc/178533926/\\n15\\n',\n",
              "  'page': 14},\n",
              " {'text': 'Amandeep Chaudhary and Others\\n                                                                    .... Petitioners\\n                                       versus\\nState of Punjab and Others\\n                                                                  .... Respondents\\n                                        ****\\n87.                                                           CWP-3352-2018\\nManpreet Singh & Others\\n                                                                    .... Petitioners\\n                                       versus\\nState of Punjab and Others\\n                                                                  .... Respondents\\n                                        ****\\n88.                                                           CWP-6443-2018\\nJasbir Singh and Others\\n                                                                    .... Petitioners\\n                                       versus\\nState of Punjab and Others\\n                                                                  .... Respondents\\n                                        ****\\n89.                                                           CWP-4146-2018\\nGunbir Singh Saini and Others\\n                                                                    .... Petitioners\\n                                       versus\\nState of Punjab and Others\\n                                                                  .... Respondents\\n                                        ****\\n90.                                                           CWP-5877-2018\\nSandeep Singh and Others\\n                                                                    .... Petitioners\\n                                versus\\nChandigarh Administration and Others\\n                                                                  .... Respondents\\n                                        ****\\n91.                                                           CWP-3244-2018\\nAmandeep Singh and Others\\n                                                                    .... Petitioners\\n                                       versus\\nState of Punjab and Others\\n                                                                  .... Respondents\\n                                   13 of 36\\n                ::: Downloaded on - 31-05-2023 02:54:12 :::\\n                                                        Neutral Citation No:=2023:PHHC:0\\nCWP-17064-2017 and connected matters\\n                                     Page 14 of 36\\nAjay Kumar Singla & Ors vs State Of Punjab & Ors on 16 February, 2023\\nIndian Kanoon - http://indiankanoon.org/doc/178533926/\\n16\\n',\n",
              "  'page': 15},\n",
              " {'text': '                                         ****\\n92.                                                             CWP-4542-2021\\nAbishek Saini and Another\\n                                                                      .... Petitioners\\n                                        versus\\nState of Punjab and Another\\n                                                                    .... Respondents\\n                                         ****\\n93.                                                             CWP-20795-2020\\nSatbir Singh and Others\\n                                                                      .... Petitioners\\n                                        versus\\nState of Punjab and Another\\n                                                                    .... Respondents\\n                                         ****\\n94.                                                             CWP-22025-2020\\nKapil Kundra and Others\\n                                                                      .... Petitioners\\n                                        versus\\nState of Punjab and Others\\n                                                                    .... Respondents\\n                                         ****\\n95.                                                             CWP-18232-2020\\nGurbaj Singh and Others\\n                                                                      .... Petitioners\\n                                        versus\\nState of Punjab and Another\\n                                                                    .... Respondents\\n                                         ****\\n96.                                                             CWP-20515-2020\\nDinesh Kumar and Another\\n                                                                      .... Petitioners\\n                                        versus\\nState of Punjab\\n                                                                    .... Respondents\\n                                         ****\\n97.                                                             CWP-11187-2020\\nChitresh\\n                                                                      .... Petitioners\\n                                        versus\\nState of Punjab and Another\\n                                                                    .... Respondents\\n                                         ****\\n98.                                                             CWP-16813-2020\\nJagdip Singh and Others\\n                                                                      .... Petitioners\\n                                        versus\\nState of Punjab and Others\\n                                                                    .... Respondents\\nAjay Kumar Singla & Ors vs State Of Punjab & Ors on 16 February, 2023\\nIndian Kanoon - http://indiankanoon.org/doc/178533926/\\n17\\n',\n",
              "  'page': 16},\n",
              " {'text': \"                                    14 of 36\\n                  ::: Downloaded on - 31-05-2023 02:54:12 :::\\n                                                      Neutral Citation No:=2023:PHHC:029\\nCWP-17064-2017 and connected matters\\n                                   Page 15 of 36\\n                                        ****\\n99.                                                           CWP-20682-2020\\nLakhbir Singh Bhatti and Others\\n                                                                    .... Petitioners\\n                                       versus\\nState of Punjab and Others\\n                                                                  .... Respondents\\n                                        ****\\n100.                                                          CWP-22232-2020\\nAnkush Goyal and Another\\n                                                                    .... Petitioners\\n                                       versus\\nState of Punjab and Others\\n                                                                  .... Respondents\\n                                        ****\\n101.                                                          CWP-10597-2021\\nPoonam Gupta And Others\\n                                                                    .... Petitioners\\n                                       versus\\nState of Punjab and Others\\n                                                                  .... Respondents\\n                                        ****\\n102.                                                          CWP-11771-2022\\nGurloveleen Singh and Others\\n                                                                    .... Petitioners\\n                                       versus\\nState of Punjab and Another\\n                                                                  .... Respondents\\n                          ****\\n                 Reserved on: 02.02.2023\\n               Date of Decision: 16.02.2023\\n                          ****\\nCORAM: HON'BLE MR JUSTICE M.S. RAMACHANDRA RAO\\n         HON'BLE MRS JUSTICE SUKHVINDER KAUR\\n                          ****\\nPresent:\\nFOR THE PETITIONERS\\n             Mr. Vikas Chatrath, Ms.Tanya Sehgal, Mr.Ujjwal Sharma,\\n             Mr.Nitin Kaushal, Mr.BPS Thakur & Mr.Abhishek Singla,\\nAjay Kumar Singla & Ors vs State Of Punjab & Ors on 16 February, 2023\\nIndian Kanoon - http://indiankanoon.org/doc/178533926/\\n18\\n\",\n",
              "  'page': 17},\n",
              " {'text': '             Advocates (in CWP No.17064 of 2017 and 35680 of 2019)\\n             Mr. H.C. Arora, Advocate and\\n             Ms. Sunaina, Advocate (in CWP No.6232 of 2017)\\n             Mr. Pardeep Singh Mirpur, Advocate\\n             (in CWP-18118-2022, CWP-12522-2019 & CWP-13197-2020)\\n             Ms. Kriteka Sheokand, Advocate (in CWP No. 1681, 1696,\\n             1713, 3332 of 2018 and 15642 of 2019)\\n                                   15 of 36\\n                ::: Downloaded on - 31-05-2023 02:54:12 :::\\n                                                      Neutral Citation No:=2023:PHHC:029\\nCWP-17064-2017 and connected matters\\n                                   Page 16 of 36\\n             Mr. Jatinder Nagpal, Advocate\\n             (in CWP-11187-2020, 25984 & 26291 of 2022)\\n             Mr. J.P.S. Sidhu, Advocate\\n             (in CWP-6404-2020)\\n             Mr. Sunil Kumar Bansal, Advocate\\n             (in CWP-33835-2019)\\n             Mr. Vishal Mittal, Advocate\\n             (in CWP-35332-2019 and 20682-2020)\\n             Mr. Ramesh Goyat, Advocate (in CWP No.3579 of 2018)\\n             Mr. Abhishek Singla, Advocate\\n             (in CWP-6888-2018)\\n             Mr. M.K. Bhatnagar, Advocate for\\n             Mr. S.K. Bawa, Advocate\\n             (in CWP-25889-2018)\\n             Ms. Rajvinder Kaur, Advocate,\\n             ( in CWP No. 7966 of 2019)\\n             Mr. Dilraj Singh, Advocate\\n             (in CWPs-3244 & 26033 of 2018)\\n             Mr. Sunny Singla and Mr. Riti Aggarwal, Advocates\\n             (in CWP-4573 & 8755-2019, CWP-10597-2021 and CWP-5432-\\n             2020)\\nAjay Kumar Singla & Ors vs State Of Punjab & Ors on 16 February, 2023\\nIndian Kanoon - http://indiankanoon.org/doc/178533926/\\n19\\n',\n",
              "  'page': 18},\n",
              " {'text': '             Mr. L.S. Virk, Advocate (in CWP No. 36464 of 2019)\\n             Mr. Shubham Saroha, Advocate (in CWP No. 11771 of 2022)\\n             Mr. Satnam Chauhan, Advocate\\n             (in CWP-19910-2017)\\n             Mr.Vijay Pal & Mr. Ashish, Advocates (in CWP-16779-2018)\\n             Mr. H.S. Saini, Advocate (in CWP-24420-2017)\\n             Mr.Gagneshwar Walia, Advocate (in CWP-15869-2017 &\\n             CWPs-6735 & 29461-2018)\\n             Mr. Sehaj Bir Singh, Advocate\\n             for PSPCL (in CWP-19910-2017)\\n             Mr.Hardeep Singh Dhillon, Advocate\\n             (in CWPs-2476 & 3466- 2018 & CWP-16813-2020)\\n                                   16 of 36\\n                ::: Downloaded on - 31-05-2023 02:54:12 :::\\n                                                      Neutral Citation No:=2023:PHHC:029\\nCWP-17064-2017 and connected matters\\n                                   Page 17 of 36\\n             Mr.Parvesh Kumar Saini, Advocate\\n             (in CWP-19909-2017, CWPs-29355, 29351, 25727, 31105-\\n             2018, CWPs-6062 & 33303-2019)\\n             Mr. Sunil Hooda, Advocate for\\n             Mr. Samrat Malik (in CWPs No. 19162 of 2017, 31040, 30891\\n             of 2018, 5399 of 2022)\\n             Mr. Baldev Singh Maan, Advocate\\n             (in CWP-19967-2019, CWP-20755- 2019, CWP-35879-2019 &\\n             CWP-34747-2019)\\n             Mr. Mohit Garg, Advocate (in CWP-27410-2017)\\n             Mr. Puneet Gupta, Advocate\\n             (in CWP No.5877 of 2018)\\n             Mr.Ravi Mishra, Advocate, for Mr. Karan Singla, Advocate (in\\n             CWP No.4146, 6443 of 2018)\\nAjay Kumar Singla & Ors vs State Of Punjab & Ors on 16 February, 2023\\nIndian Kanoon - http://indiankanoon.org/doc/178533926/\\n20\\n',\n",
              "  'page': 19},\n",
              " {'text': '             Mr.Kapil Kakkar, Advocate and\\n             Mr. Shreesh Kakkar, Advocate (in CWP-16115-2017)\\n             Mr.Ravi Kant Sharma, Advocate (in CWP-28972-2018)\\nFOR THE RESPONDENTS\\n             Mr. Suvir Sidhu, Advocate and\\n             Mr. S.S.Gill, Advocate\\n             for respondents (in CWP-10346-2022)\\n             Mr. Anil Kumar, Advocate for\\n             Mr. Abhilaksh Grover, Advocate\\n             for respondent No.2 -PSPCL (in CWP No.27410 of 2017)\\n             Mr. Aman Sharma, Advocate,\\n             for respondents No.1 to 3 (in CWP-6045-2018)\\n             Mr. Bachan Singh, Advocate for\\n             Mr. R.S. Cheema, Advocate\\n             for respondent Nos.5 to 9 (in CWP-5877-2018)\\n             Mr. Arshdeep Bhullar, Advocate\\n              for respondent No.5 (in CWP-4146-2018) and\\n             for respondent No.4 (in CWP-6443-2018)\\n             Mr. P.P.Rana and Ms. Madhu Dayal, Advocates\\n             for respondent Nos.1 to 3-UT, Chd. (in CWP-5877-2018)\\n             Mr.Anu Chatrath, Sr. Advocate assisted by\\n             Ms. Divya Sharma, Advocate\\n             for respondent No.3/PUDA (CWP-3862-2018)\\n                                   17 of 36\\n                ::: Downloaded on - 31-05-2023 02:54:12 :::\\n                                                             Neutral Citation No:=2023:P\\n       CWP-17064-2017 and connected matters\\n                                          Page 18 of 36\\n                    Mr.Indresh Goel, Advocate, for respondent No.4\\n                    (in CWP-5877-2018)\\n                    Mr. Vikas Mohan Gupta, Addl. A.G., Punjab.\\n                       ****\\n       M.S. RAMACHANDRA RAO, J.\\nAjay Kumar Singla & Ors vs State Of Punjab & Ors on 16 February, 2023\\nIndian Kanoon - http://indiankanoon.org/doc/178533926/\\n21\\n',\n",
              "  'page': 20},\n",
              " {'text': 'In this batch of Writ Petitions, certain notifications issued by the State of Punjab are challenged.\\nI. Notifications No.7/204/2012-4FP1/60 dt.15.01.2015, GSR.3/Const/Article 309/AMD.(5)/2015\\ndt.22.12.2015 and GSR.56/Const./ Art.309/ AMD.(18)/2016 dt. 05.09.2016 are challenged in\\nfollowing Writ Petitions:\\nCWPs- 6232, 16115, 17064, 17673, 19162, 19909, 19910, 22484, 23206, 25019, 27410\\nof 2017; CWPs- 1106, 1681, 1696, 1713, 1728, 1729, 3244, 3332, 5354, 29351, 29355,\\n31003, 31010, 31105, 3862, 25727, 25889, 25940, 6045, 31137, 6888, 7958, 26033 of\\n2018; CWPs- 35680, 33303, 35332, 4573, 8755, 12522 of 2019; CWPs- 6404, 13197,\\n11187, 5432, 20795, 18232, 22025, 22232 of 2020; CWP- 10597-2021; and CWPs-\\n25984, 26291, 10346, 18118 of 2022.\\nII. Only Notification No.7/204/2012-4FP1/60 dt.15.01.2015 and GSR.56/Const./\\nArt.309/ AMD.(18)/2016 dt.05.09.2016 are challenged in following Writ Petitions:\\nCWPs- 3352, 3353, 3061, 3052, 3354, 3579, 26014, 23710, 25919, 6584, 5877 of\\n2018; CWPs- 4964, 31727, 23213 of 2019; CWPs- 20682, 20515 of 2020;CWP- 4542\\nof 2021; and CWP- 11771 of 2022.\\nIII. Only Notification No.7/204/2012-4FP1/60 dt.15.01.2015 is challenged in\\nfollowing Writ Petitions:\\nCWPs- 15869, 7834 of 2017; CWPs- 29461, 6735, 30891, 16779, 28972, 31040,\\n30924, 31056 of 2018; CWPs- 7966, 36464 of 2019; and CWPs-\\n5399, 11260 of 2022.\\n18 of 36 Neutral Citation No:=2023:PHHC:029128-DB CWP-17064-2017 and\\nconnected matters IV. Only Notifications No.7/204/2012-4FP1/60 dt.15.01.2015 and\\nGSR.3/Const/Article 309/AMD.(5)/2015 dt. 22.12.2015 are challenged in following\\nWrit Petitions:\\nCWPs-13922, 24420 of 2017; CWPs- 2476, 3466, 4146, 6443, 28204 of 2018; CWPs-\\n6062, 11788, 34747, 35879, 19967, 15642, 20755, 33835 of 2019; CWP-16813-2020;\\nand CWP-12100-2022.\\nThe petitioners in all these Writ Petitions are persons employed in various\\ndepartments of the State Government or working in aided posts in private schools in\\nthe State of Punjab.\\nThe background facts are as under:\\nAjay Kumar Singla & Ors vs State Of Punjab & Ors on 16 February, 2023\\nIndian Kanoon - http://indiankanoon.org/doc/178533926/\\n22\\n',\n",
              "  'page': 21},\n",
              " {'text': 'Notification No.7/204/2012-4FP1/60 dt.15.01.2015 and clarification\\nNo.7/204/2012- 4FP.1/166 dt.15.01.2015 The notification dt.15.01.2015 amended the\\nPunjab Civil Services (Second Amendment) Rules, Volume I, Part I, 2015 and added\\nRule 2.20-A and substituted in Rule 4.1 thereof, for sub Rule (1). They are as under: -\\n\"Rule 2.20-A:\\nFixed Monthly Emoluments\\' means the emoluments, drawn by a Government\\nemployee, but the said emoluments shall not include any Grade Pay, annual\\nincrement or any other allowance, except the travelling allowance as per entitlement\\nof the post held by such employee;\\nNew Sub Rule (1) substituted in Rule 4.1:\\n\"(1) Subject to the rules contained in this Chapter, a competent authority may fix the\\npay of a Government employee, but his pay shall not be so increased as to exceed the\\npay sanctioned for his post without the sanction of the authority competent to create\\na post in the same cadre on a rate of pay equal to his pay when increased:\\nProvided that the Government employee [except a member of service of the Punjab\\nCivil Services (Judicial Branch) and the employees covered under Clause (a) of Rule\\n4.4], shall be entitled to receive the emoluments, as specified in Rule 2.20A, during\\nthe period of his probation.\\n19 of 36 Neutral Citation No:=2023:PHHC:029128-DB CWP-17064-2017 and\\nconnected matters Provided further that if a Government employee falling under\\nClause\\n(a) of Rule 4.4, is appointed to a post, his pay during the period of his probation, shall\\nnot exceed the pay, which he was drawing on the post on which he holds lien;\\nProvided further that when the services of a Government employee, are regularized, in that case the\\nperiod spent on probation by him, shall not be treated to be the time, spent on such post.\"\\nA combined reading of both indicates a government employee (except a member of service of the\\nPunjab Civil Services (Judicial Branch) and the employees covered under Clause (a) of Rule 4.4\\n(Permanent Employees, who had lien in the permanent post and who are appointed substantively to\\nanother post on a time scale of pay) would be entitled to receive only fixed monthly emoluments as\\nspecified in Rule 2.20-A during the period of probation and such emolument shall not include any\\nGrade pay, annual increment or any other allowance except the Travelling Allowance as per\\nentitlement of the post held by such employee. Also the period spent on probation would not be\\ntreated as spent on such post even if the services of the Government employee are regularized on\\nsatisfactory completion of probation.\\nAjay Kumar Singla & Ors vs State Of Punjab & Ors on 16 February, 2023\\nIndian Kanoon - http://indiankanoon.org/doc/178533926/\\n23\\n',\n",
              "  'page': 22},\n",
              " {'text': \"There was a clarificatory note issued by the Government of Punjab on the same day i.e. 15.01.2015\\nreiterating the same i.e. that during period of two years probation on recruitment, the fixed\\nemoluments shall be paid to the employee, which shall be equal to the minimum of Pay Band\\napplicable to such new post of employee and during probation period, he shall not be entitled to\\nannual increments or any other allowances except Travelling Allowance; on successful completion of\\nthe probation period, he shall be entitled to the salary in the minimum Pay Band including Grade\\npay 20 of 36 Neutral Citation No:=2023:PHHC:029128-DB CWP-17064-2017 and connected\\nmatters from the beginning on the said post; the period of probation, and if any increase made\\ntherein, shall not be considered while fixing the salary. The decision of Division Bench of this Court\\nin Gurwinder Singh and others Vs. State of Punjab1 In Gurwinder Singh and others (1 Supra), a\\nDivision Bench of this Court followed a decision of the Rajasthan High Court in Gopal Kumawat Vs.\\nState of Rajasthan and others2 wherein similar provision in the Rajasthan Service (Amendment)\\nRules, 2006 was quashed by the said High Court and held that the above condition prescribed by the\\nnotification dt.15.01.2015 and the clarificatory letter dt.15.01.2015 introduced unconscionable terms\\nof contract between the State and its employees, and such terms cannot be made part of\\nappointment orders. It also relied on the decision of the Supreme Court in Central Inland Water\\nTransport Corporation and another Vs. Brojo Nath Ganguly and another3 which held that such\\nterms in the appointment order are unconscionable terms of contract; that the State must act as a\\nmodel employer and cannot take undue advantage of the need of the employee, who does not have\\nany choice in the matter of employment, due to economic compulsions. It held that the employees of\\nthe Punjab State Government, who were on probation, did not have any alternative except to accept\\nwhat the Government has dictated i.e. to accept fixed emoluments during the period of probation\\nwithout increments or any other allowance except Travelling Allowance.\\nThe Division Bench in Gurwinder Singh and others (1 Supra) approved the reasoning of the\\nRajasthan High Court in Gopal Kumawat's case (2 Supra) that the State cannot dictate that\\nemployees who were CWP-8922-2017 (O&M) dt.13.09.2018 CWP-2963-2007 dt.29.07.2015 AIR\\n1986 SC 1571 21 of 36 Neutral Citation No:=2023:PHHC:029128-DB CWP-17064-2017 and\\nconnected matters regularly selected and appointed on substantive posts should get wages less than\\nliving wages which are provided by way of allowances, and that it is unjust, unfair and unreasonable\\nand violative of Article 14 of the Constitution of India; that it amounts to practice of forced labour;\\nand where the State has offered unfair terms of employment, and the candidate accepts it taking up\\nthe job without demur, he cannot be held to have accepted the employment on such terms, which\\nare unfair and unconstitutional.\\nThis Court thus quashed the notification dt.15.01.2015, the clarificatory letter dt.15.01.2015 as well\\nas Clauses in appointment letters issued to the petitioners that they will get only fixed emoluments\\nwithout any allowances and increments during the period of probation and that the said period will\\nnot be counted towards the period of work in the pay scale; and directed the State to grant to the\\npetitioners therein the regular pay scale along with all other emoluments like increment etc. from\\nthe date of their initial appointment with the further prayer to count the period spent on probation\\nas regular service for the purpose of determination of total length of service.\\nAjay Kumar Singla & Ors vs State Of Punjab & Ors on 16 February, 2023\\nIndian Kanoon - http://indiankanoon.org/doc/178533926/\\n24\\n\",\n",
              "  'page': 23},\n",
              " {'text': 'The decision of Division Bench of this Court in Dr.Vishvdeep Singh and others Vs. State of Punjab\\nand others4 The same Bench in another case of Dr.Vishvdeep Singh (4 Supra) followed its decision\\nin Gurwinder Singh and others (1 Supra) and quashed the notification dt.15.01.2015 insofar as it\\nsubstituted Rule 4.1 of PCS Rules and provided for payment of only fixed monthly emoluments in\\nterms of Rule 2.20-A of PCS Rules and also provided that period spent on probation by a\\ngovernment employee shall not be treated to be the time spent on such post.\\nCWP-6391-2016 and batch dt.26.10.2018 22 of 36 Neutral Citation No:=2023:PHHC:029128-DB\\nCWP-17064-2017 and connected matters It however directed that all such employees shall be\\nentitled to same salary as paid to regular employees with effect from the date of passing of its\\njudgment (and not from the date of their initial appointment as held by it in Gurwinder Singh and\\nothers (1 Supra)).\\nIt also extended the benefit to petitioners therein, who were working as Doctors in various\\ndepartments of State Government against existing vacancies, including those Doctors who had not\\napproached the Court and are working against the existing vacancies, and declared that they would\\nalso be entitled to benefit of the said judgment.\\nIn this case, the Division Bench relied on the decisions in Secretary, State of Karnataka and others\\nVs. Uma Devi5 and State of Punjab Vs. Jagjit Singh and others6 etc. to hold that persons discharging\\nidentical duties cannot be treated differently in the matter of their pay and that the principle of\\nequal pay and equal work, which is enshrined in Article 39 of the Constitution of India, would apply.\\nProceedings in the Supreme Court against the said decisions It is not in dispute that SLP No.4762 of\\n2020 was filed by the State of Punjab in the Supreme Court of India against the order in Gurwinder\\nSingh and others (1 Supra) and SLP No.11476 of 2020 was filed by it against the order in Dr.\\nVishavdeep Singh and others (4 Supra), and that only notice was issued in the SLPs and contempt\\nproceedings only were stayed.\\nThere is no stay granted by the Supreme Court of the judgments rendered in both cases.\\n2006 (4) SCC 1 (Constitution Bench) 2017 (1) SCC 148 23 of 36 Neutral Citation\\nNo:=2023:PHHC:029128-DB CWP-17064-2017 and connected matters Notification dt.22.12.2015\\nThis notification was issued to further amend the Punjab Civil Services Rules, Volume I, Part I, and\\nthe Rules amended were called Punjab Civil Services (Fifth Amendment) Rules, Volume I, Part I,\\n2015 which was to come into effect from 20.03.2015. Under this notification:\\n(a) \"Rule 2.20-A was omitted.\\n(b) In Rule 4.1, for Sub Rule (1), new Sub Rules were substituted as under:\\n\"(1) Subject to the rules contained in this Chapter, a competent authority may fix the\\npay of a Government employee, but his pay shall not be so increased as to exceed the\\npay sanctioned for his post without the sanction of the authority competent to create\\nAjay Kumar Singla & Ors vs State Of Punjab & Ors on 16 February, 2023\\nIndian Kanoon - http://indiankanoon.org/doc/178533926/\\n25\\n',\n",
              "  'page': 24},\n",
              " {'text': 'a post in the same cadre on a rate of pay equal to his pay when increased:\\nProvided that the Government employee [except a member of service of the Punjab\\nCivil Services (Judicial Branch), specialist doctors and the employees covered under\\nClause (a) of Rule 4.4, shall be entitled to receive the emoluments, during the period\\nof his probation. Provided further that when the services of a Government employee,\\nwho was receiving fixed monthly emoluments during the period of probation are\\nconfirmed, the period spent on probation by him, shall not be treated to be the time\\nspent on the time scale applicable to his post.\\nExplanation - The expression \"fixed monthly emoluments\" means the amount drawn\\nmonthly by a Government employee equal to the minimum of the pay band of the\\nservice or post to which he is appointed and shall not include grade pay, special pay,\\nannual increment or any other allowance, except travelling allowance drawn with\\nreference to the grade pay of the relevant service or post. It shall also not include any\\nother emoluments which may be specifically classed as part of pay by the competent\\nauthority, as provided in Rule 2.44(b).\\n(1A) The provisions of sub-rule(1), shall have effect notwithstanding anything\\ninconsistent therewith contained in these rules or other rules for the time being in\\nforce.\"\\n24 of 36 Neutral Citation No:=2023:PHHC:029128-DB CWP-17064-2017 and connected matters\\nThus, the definition of the expression \\'fixed monthly emoluments\\' contained in 2.20-A was\\nintroduced by way of explanation in Sub Rule (1) and it was provided that Government employees\\nexcept a member of the service of the Punjab Civil Service (Judicial Branch), Specialist Doctors and\\nemployees covered under Clause (a) of Rule 4.4 (i.e. Permanent Employees who had lien in the\\npermanent post and who are appointed substantively to another post on a time scale of pay) would\\nbe entitled to receive fixed monthly emoluments as mentioned in the explanation during the period\\nof their probation; and when his services are confirmed, the period spent on probation by him would\\nnot be treated as time spent on the time scale application to his post.\\nThus, what was contained in the notification dt.15.01.2015 is introduced in a different form again in\\nthe notification dt.22.12.2015. Contentions of parties Petitioners\\' counsel contend that for the same\\nreasons that the notification dt.15.01.2015 was quashed, even the notification dt.22.12.2015 ought to\\nbe quashed.\\nCounsel for the State, however contended that:\\n(a) since the SLPs filed in the Supreme Court challenging the judgments of this Court\\nin Gurwinder Singh and others (1 Supra) and Dr. Vishavdeep Singh and others (4\\nSupra) are pending in the Supreme Court since 2020,\\nAjay Kumar Singla & Ors vs State Of Punjab & Ors on 16 February, 2023\\nIndian Kanoon - http://indiankanoon.org/doc/178533926/\\n26\\n',\n",
              "  'page': 25},\n",
              " {'text': '(b) the decision of the Rajasthan High Court in the case of Gopal Kumawat (2 Supra)\\nhad been challenged in the Supreme Court in SLP No.25565 of 2015, and the same is\\nalso pending in the Supreme Court,\\n25 of 36 Neutral Citation No:=2023:PHHC:029128-DB CWP-17064-2017 and connected matters\\nThis Court should refrain from pronouncing on the validity of the notification dt.22.12.2015.\\nConsideration by the Court We do not agree with the said submissions of Counsel for the State.\\nIn our opinion, the ratio of the above 2 decisions in Gurwinder Singh and others (1 Supra) and Dr.\\nVishavdeep Singh and others (4 Supra) equally applies to the consideration of the validity of the\\nnotification dt.22.12.2015 since what was contained in the notification dt.15.01.2015 was introduced\\nin a different form in the notification dt.22.12.2015; there is no material change therein except that\\nin addition to members of the Punjab Civil Service (Judicial Branch) and Permanent Employees who\\nhad lien in the permanent post and who are appointed substantively to another post on a time scale\\nof pay, Specialist Doctors were also granted the exemption from application of the Rule (which\\ndirected payment of fixed monthly emoluments during the period of probation and for not counting\\nof period spent on probation as time spent on the time scale applicable to their post).\\nIn fact, the contention that there is an SLP pending against the judgment in Gopal Kumawat\\'s case\\n(2 Supra) had been raised at the time when Gurwinder Singh and others (1 Supra) was being\\ndecided, and this Court in its judgment in Gurwinder Singh and others (1 Supra) observed at Para 9\\nthat it was not inclined to adjourn the said case sine die merely because SLP had been filed against\\nthe judgment of the Rajasthan High Court in Gopal Kumawat\\'s case (2 Supra).\\n26 of 36 Neutral Citation No:=2023:PHHC:029128-DB CWP-17064-2017 and connected matters In\\nShree Chamundi Mopeds Ltd. v. Church of South India Trust Assn7., the Supreme Court had held:\\n\"While considering the effect of an interim order staying the operation of the order\\nunder challenge, a distinction has to be made between quashing of an order and stay\\nof operation of an order. Quashing of an order results in the restoration of the\\nposition as it stood on the date of the passing of the order which has been quashed.\\nThe stay of operation of an order does not, however, lead to such a result. It only\\nmeans that the order which has been stayed would not be operative from the date of\\nthe passing of the stay order and it does not mean that the said order has been wiped\\nout from existence.\"\\n(emphasis supplied) Another Division Bench of this Court in Chief Engineer, UT, Chandigarh Vs.\\nRam Sarup Walia and others8, held that even if a stay is granted of a judgment by the Supreme\\nCourt in an appeal preferred against it, and even if the appeal is admitted, the stay order of the\\nSupreme Court does not have the effect of rendering the said judgment non est till the disposal of\\nthe Appeal.\\nAjay Kumar Singla & Ors vs State Of Punjab & Ors on 16 February, 2023\\nIndian Kanoon - http://indiankanoon.org/doc/178533926/\\n27\\n',\n",
              "  'page': 26},\n",
              " {'text': \"Therefore, we reject the plea of the counsel for the State that these cases ought not to be decided till\\nthe SLPs preferred against the judgments of this Court in Gurwinder Singh and others (1 Supra) and\\nDr. Vishavdeep Singh and others (4 Supra), are decided by the Supreme Court or till the SLP filed in\\nthe Supreme Court against the judgment of the Rajasthan High Court in Gopal Kumawat's case (2\\nSupra), is decided.\\nBut there is another point which is required to be considered by us.\\nWhile in Gurwinder Singh and others (1 Supra), this Court had granted relief to the petitioners by\\ngranting them regular pay scale along (1992) 3 SCC 1, at page 9 2012(3) S.C.T. 157 27 of 36 Neutral\\nCitation No:=2023:PHHC:029128-DB CWP-17064-2017 and connected matters with all other\\nemoluments like increment etc. from the date of their initial appointment with further direction to\\ncount the period spent on probation as regular service for the purpose of determination of total\\nlength of service under the Service Rules, in Dr. Vishavdeep Singh and others (4 Supra), though\\nnotification dt.15.01.2015 was quashed, but in clause (iii) in the last page, the same Bench directed\\nhowever that all such employees shall be entitled to the same salary as paid to regular employees\\nwith effect from the date of passing of the said judgment i.e. only from 26.10.2018 when the said\\ncase was decided.\\nThe petitioners contend that they are entitled to relief as directed in Gurwinder Singh and others (1\\nSupra) and not as directed in Dr. Vishavdeep Singh and others (4 Supra).\\nThey contend that normally when a statute or a rule or a notification is quashed, it is as if it was\\nnever enacted, that it was void ab initio and they should get the benefit from their initial date of\\nappointment and not from any later date.\\nThey also contend that no reason is mentioned in the judgment in Dr. Vishavdeep Singh and others\\n(4 Supra) as to why the said benefit is granted only from the date of the judgment passed therein\\nand not from the date of initial appointment.\\nAccording to them, a High Court does not have power or jurisdiction to give only prospective\\noperation to its judgments and such power of jurisdiction is vested only exclusively with the\\nSupreme Court of 28 of 36 Neutral Citation No:=2023:PHHC:029128-DB CWP-17064-2017 and\\nconnected matters India as held in Golakh Nath vs. State of Punjab9and State of Manipur and\\nothers vs. Suraj Kumar Okram and others10.\\nThe counsel for the State contended that though the above legal position is not in dispute, it cannot\\nbe denied that High Courts undoubtedly have power to mould relief and restrict the grant of relief in\\nexercise of their equity jurisdiction as held in P.V. George Vs. State of Kerala11.\\nThere is in our opinion no dispute that this Court had quashed the notification dt.15.01.2015 in Dr.\\nVishavdeep Singh and others (4 Supra), but such quashing was rightly not done prospectively as in\\ncase of Gurwinder Singh and others (1 supra).\\nAjay Kumar Singla & Ors vs State Of Punjab & Ors on 16 February, 2023\\nIndian Kanoon - http://indiankanoon.org/doc/178533926/\\n28\\n\",\n",
              "  'page': 27},\n",
              " {'text': 'But there is no reason assigned in the said judgment in Dr. Vishavdeep Singh and others (4 Supra)\\nas to why the Court in that case was granting relief to the parties only from the date of its judgment\\nand not from the date of their initial appointment.\\nIn the absence of any reasons assigned by this Court in Dr. Vishavdeep Singh and others (4 Supra)\\nas to why the Court was granting relief to the parties only from the date of its judgment and not from\\nthe date of their initial appointment, the said portion of the judgment therein cannot operate as a\\nratio decidendi and bind us.\\nAlso, normally the effect of declaration of a statute or a rule or a notification by a Court on the\\nground that it infringes a fundamental right such as Article 14 or 16 like in the instant cases, is that it\\nis null and void.\\nIn Behram Khurshid Pesikaka vs. State of Bombay12, a Seven Judge Bench of the Supreme Court\\nheld that if any law was made after AIR 1967 SC 1643 2022 (2) Scale 674 2007 (3) SCC 557 1955 AIR\\n(SC) 123 29 of 36 Neutral Citation No:=2023:PHHC:029128-DB CWP-17064-2017 and connected\\nmatters 26.01.1950 which was repugnant to the Constitution of India, it would be null and void. It\\nheld that there is no distinction between a declaration of unconstitutionality brought about by lack\\nof legislative power from a declaration of unconstitutionality brought about by reason of\\nabridgement of Fundamental Rights; that both these declarations of unconstitutionality go to the\\nroot of the power itself and there is no real distinction between them; and when the law making\\npower of the State is restricted by a written fundamental law, then any law enacted and opposed to\\nthe fundamental law is in excess of the legislative authority and is thus a nullity. Mahajan CJ, for the\\nmajority held:\\n\"10. The meaning to be given to the expression \"void\" in Article 13(1) is no longer res\\nintegra. It stands concluded by the majority decision in Kesava Madhava Menon v.\\nState of Bombay13. The minority view there was that the word \"void\" had the same\\nmeaning as \"repeal\" and therefore a statute which came into clash with fundamental\\nrights stood obliterated from the statute-book altogether, and that such a statute was\\nvoid ab initio. The majority however held that the word \"void\" in Article 13(1), so far\\nas existing laws were concerned, could not be held to obliterate them from the\\nstatute-book, and could not make such laws void altogether, because in its opinion,\\nArticle 13 had not been given any retrospective effect. The majority however held that\\nafter the coming into force of the Constitution the effect of Article 13(1) on such\\nrepugnant laws was that it nullified them, and made them ineffectual and nugatory\\nand devoid of any legal force or binding effect. It was further pointed out in one of the\\njudgments representing the majority view, that the American rule that if a statute is\\nrepugnant to the Constitution the statute is void from its birth, has no application to\\ncases concerning obligations incurred or rights accrued in accordance with an\\nexisting law that was constitutional in its inception, but that if any law was made\\nafter 26th January, 1950, which was repugnant to the Constitution, then the same\\nrule shall have to be followed in India as followed in America. The result therefore of\\nthis pronouncement is that the part of the section of an existing law which is\\nAjay Kumar Singla & Ors vs State Of Punjab & Ors on 16 February, 2023\\nIndian Kanoon - http://indiankanoon.org/doc/178533926/\\n29\\n',\n",
              "  'page': 28},\n",
              " {'text': 'unconstitutional is not law, and is null and void. For determining the rights and\\nobligations of citizens the part declared void AIR 1951 SC 128 30 of 36 Neutral\\nCitation No:=2023:PHHC:029128-DB CWP-17064-2017 and connected matters\\nshould be notionally taken to be obliterated from the section for all intents and\\npurposes, though it may remain written on the statute-book and be a good law when\\na question arises for determination of rights and obligations incurred prior to 26th\\nJanuary, 1950 and also for the determination of rights of persons who have not been\\ngiven fundamental rights by the Constitution. Thus, in this situation, there is no\\nscope for introducing terms like \"relatively void\" coined by American Judges in\\nconstruing a Constitution which is not drawn up in similar language and the\\nimplications of which are not quite familiar in this country.\\n11. We are also not able to endorse the opinion expressed by our learned Brother,\\nVenkatarama Ayyar that a declaration of unconstitutionality brought about by lack of\\nlegislative power stands on a different footing from a declaration of\\nunconstitutionality brought about by reason of abridgement of fundamental rights.\\nWe think that it is not a correct proposition that constitutional provisions in Part III\\nof our Constitution merely operate as a check on the exercise of legislative power. It is\\naxiomatic that when the law- making power of a State is restricted by a written\\nfundamental law, then any law enacted and opposed to the fundamental law is in\\nexcess of the legislative authority and is thus a nullity. Both these declarations of\\nunconstitutionality go to the root of the power itself and there is no real distinction\\nbetween them. They represent but two aspects of want of legislative power. The\\nlegislative power of Parliament and the State Legislatures as conferred by Articles\\n245 and 246 of the Constitution stands curtailed by the fundamental rights chapter of\\nConstitution. A mere reference to the provisions of Article 13(2) and Articles 245 and\\n246 is sufficient to indicate that there is no competency in Parliament or a State\\nLegislature to make a law which comes into clash with Part III of the Constitution\\nafter the coming into force of the Constitution. Article 13(2) is in these terms:\\n\"The State shall not make any law which takes away or abridges the rights conferred\\nby this Part and any law made in contravention of this clause shall, to the extent of\\nthe contravention, be void.\"\\nThis is a clear and unequivocal mandate of the fundamental law prohibiting the State from making\\nany laws which come into conflict with Part III of the Constitution. The authority thus conferred by\\nArticles 245 and 246 to make laws subjectwise in the different legislatures is qualified by the\\ndeclaration made in Article 13(2). That power can only be exercised subject to the prohibition\\ncontained in Article 13(2). On the construction of Article 13(2) there was no divergence of opinion\\nbetween the majority and the minority in 31 of 36 Neutral Citation No:=2023:PHHC:029128-DB\\nCWP-17064-2017 and connected matters Kesava Madhava Menon v. State of Bombay13. It was only\\non the construction of Article 13(1) that the difference arose because it was felt that that article could\\nnot retrospectively invalidate laws which when made were constitutional according to the\\nConstitution then in force.\"\\nAjay Kumar Singla & Ors vs State Of Punjab & Ors on 16 February, 2023\\nIndian Kanoon - http://indiankanoon.org/doc/178533926/\\n30\\n',\n",
              "  'page': 29},\n",
              " {'text': 'This principle was recently reiterated in the case of Suraj Kumar Okram (10 Supra) in the context of\\na statute which is adjudged to be unconstitutional. It was held that in such a case, it is as if it had\\nnever been. Rights cannot be built up under it; contracts which depend upon it for their\\nconsideration are void; it constitutes a protection to no one who has acted under it and no one can\\nbe punished for having refused obedience to it before the decision was made. It was held that it was\\nas inoperative as though it had never been passed.\\nTherefore, in our opinion, once the notification dt.15.01.2015 was quashed in Gurwinder Singh and\\nothers (1 Supra) and also in Dr. Vishavdeep Singh and others (4 Supra) as being violative of Article\\n14 of the Constitution of India, it is as if it had never been made.\\nAs a consequence, the petitioners would be entitled to the benefits flowing from the said judgments\\nfrom the date of their initial appointment itself and not from any later date after completion of\\nperiod of probation.\\nThough counsel for the State sought to contend that the notifications dt.15.01.2015 and 22.12.2015\\nhad been issued on the ground of certain financial difficulties of the State, and so the benefit of the\\nquashing of the said notification and similar notifications ought to be postponed and granted from a\\ndate after the date of initial appointment, we cannot agree with such submission because such a\\nground was deemed to have been 32 of 36 Neutral Citation No:=2023:PHHC:029128-DB\\nCWP-17064-2017 2017 and connected matters rejected in the decisions rendered by this Court in\\nGurwinder Singh and others (1 Supra) and also in Dr. Vishavdeep Singh and others (4 Supra).\\nTherefore, the same reason cannot be accepted for postponing the benefit of the quashing of the\\nnotification dt.15.01.2015 and the other similar notifications because once it is rejected fo forr one\\npurpose, it is deemed to be rejected for other purposes as well.\\nIn Haryana State Minor inor Irrigation Tubewells Corporation v.\\nG.S. Uppal14 a Division Bench of this High Court held that plea of financial constraints cannot be\\nraised by the State with regard to only some categories of it\\'s employees and principle of \"equal pay\\nfor equal work\" has to be applied by it without discrimination amongst them. It held:\\n\" 20.....\\n... Pleadings of the parties extracted above, would thus, manifest that it is only the\\ncategory of the petitioners, which has been singled out, whereas all other employees,\\neven of the appellant Corporation, have been given increase in their pay scales, as\\ncommensurate to their counterparts, i.e., .e., holding the same posts in the\\nGovernment Departments. Not only that, the said increase has been given to the\\nposts held by other Engineers, inasmuch as, even those, who are holding engineering\\nposts above the rank of the petitioners, have also been given a similar pay hike. It is\\nonly three categories of the petitioners, which have been left out. Is there any\\njustification for the same, is, thus, the only question to be determined? We find\\nAjay Kumar Singla & Ors vs State Of Punjab & Ors on 16 February, 2023\\nIndian Kanoon - http://indiankanoon.org/doc/178533926/\\n31\\n',\n",
              "  'page': 30},\n",
              " {'text': 'nothing at all mentioned in in the written statement or that might have been urged\\nduring the course of arguments, which may justify increase in the pay scales of all\\nother categories of the employees of the Corporation including those, who are\\nholding engineering posts, and not the ppetitioners. Decision of the Government in,\\nthus. rejecting the proposal of the Board of Directors smacks of individuous\\ndiscrimination and thus straightaway comes within the vice of Article 14 of the\\nConstitution of India. All that could be said in the defence defence is based upon\\nArticle 135 of the Articles of Association, which reads thus:--\\nthus:\\n\"135. Notwithstanding anything contained in any of the Articles, the Government\\nmay, from time to time, issue such directives as they may consider necessary in\\nmatter of board board policy and in like manner may very 2001 SCC OnLine P&H\\n890 : ILR (2002) 1 P&H 253 : (2002) 2 SLR 256 256, at page 253\\n33 of 36 Neutral Citation No:=2023:PHHC:029128-DB CWP-17064-2017 2017 and connected\\nmatters and annual and such directive. The company shall given immediate effect to directives so\\nissued.\"\\n21. First of all, giving a pay scale to its employees by virtue of powers so conferred by Article 81(v) as\\nalso 5.1 of Service Service Bye Bye-laws does not appear to be a policy decision that might have been\\ntaken by the Board and even if the same be so, it cannot possibly be sustained, as the petitioners\\nalong have been singled out, whereas the same very decision of the Board with re regard to all other\\nemployees has since been accepted or concurred with the Government.\\n22. Insofar as, pleadings pertaining to the financial position of the appellant Corporation in the writ\\npetition and one contained in Civil Misc.\\n2001 filed during the course of arguments are concerned, suffice it to say that it is not the case of the\\nappellant that it is not financially viable. It may be true that at present some banks might have filed\\nvarious applications in the Debt Recovery Tribuna Tribunal for recovery of Rs. 96 crores against the\\nappellant, as is the pleading in the Misc. Application aforesaid but it is the case of the Corporation\\nitself that it shall not be able to pay the said debuts without financial assistance of the State\\nGovernment Government.\\nIf the State is to financially help the Corporation, it can do so in paying the wages to the employees.\\nThat apart, the Corporation cannot plead financial loss only with regard to a limited categories of\\nemployees. It cannot be said that it is financially financially sound insofar as other employees are\\nconcerned but finds financial constraints only insofar as the petitioners are concerned.\\nconcerned.\"\\nAjay Kumar Singla & Ors vs State Of Punjab & Ors on 16 February, 2023\\nIndian Kanoon - http://indiankanoon.org/doc/178533926/\\n32\\n',\n",
              "  'page': 31},\n",
              " {'text': \"(emphasis supplied) Therefore, all the Writ Petitions are allowed and the notification dt.22.12.2015\\nis also quashed and the benefit thereof shall accrue to the petitioners who have challenged it from\\ntheir date of initial appointment as was done in the case of Gurwinder Singh and others (1 Supra).\\nThe question next to be considered is whether the benefit of the quashing of these notifications\\nshould be confined only to the Writ Petitioners and not extended to other Government employees or\\nemployees working in aided posts, who had also been given appointment on conditions similar to\\nthose those which are quashed in these Writ Petitions.\\n34 of 36 Neutral Citation No:=2023:PHHC:029128-DB CWP-17064-2017 and connected matters\\nNotification No. GSR.56/Const./ Art.309/ AMD.(18)/2016 dt.05.09.2016 We may also point out\\nthat a notification dt.05.09.2016 was issued by the Government of Punjab called Punjab Civil\\nServices (General and Common Conditions of Service) (Second Amendment) Rules, 2016 through\\nwhich the period of probation was increased from 2 years to 3 years by making a substitution for the\\nword 'two' with the word 'three' in Rule 7 Sub Rule (1).\\nThough, this notification is challenged in some of the cases, there is no pleading as to why it should\\nbe quashed. Therefore, in this batch of cases, we are not inclined to go into the validity of the said\\nnotification in the absence of proper pleading by the petitioners and leave it open for consideration\\nin an appropriate case where there is adequate pleading and the State has had an opportunity to\\nrebut it.\\nAccordingly, the Writ Petitions are allowed as under:\\n(a) Notification No.7/204/2012-4FP1/60 dt.15.01.2015 having already been quashed\\nin Gurwinder Singh and others (1 supra) and Dr. Vishavdeep Singh and others (4\\nSupra), there is no need to quash it again;\\n(b) Clarification No.7/204/2012-4FP.1/166 dt.15.01.2015 and notification\\nGSR.3/Const/Article 309/AMD.(5)/2015 dt.22.12.2015 to the extent they held that\\nduring period of probation or if increase in such period of probation, only fixed\\nemoluments shall be paid to the employee, which shall be equal to the minimum of\\npay band of the service or post to which he is appointed and shall not include Grade\\nPay, Special Pay, Annual Increment or any other allowance except Travelling\\n35 of 36 Neutral Citation No:=2023:PHHC:029128-DB CWP-17064-2017 and connected matters\\nAllowance AND further directing that the period of probation shall not be treated to be the time\\nspent on the time scale applicable to his post, are quashed;\\n(c) Any conditions included in appointment letters issued to petitioners on the basis of the above\\nnotifications, are also quashed;\\n(d) The respondents are directed to grant to the petitioners the regular pay scale along with all other\\nemoluments, allowances etc. from the date of their initial appointment and pay the arrears within\\nAjay Kumar Singla & Ors vs State Of Punjab & Ors on 16 February, 2023\\nIndian Kanoon - http://indiankanoon.org/doc/178533926/\\n33\\n\",\n",
              "  'page': 32},\n",
              " {'text': 'three months from today;\\n(e) The respondents are directed to count the period spent on probation as regular services for the\\npurpose of determination of the total length of service under the Service Rules.\\n(f) The validity of the notification No. GSR.56/Const./Art.309/ AMD.(18)/2016 dt.05.09.2016\\nissued by the State of Punjab is left open for consideration in an appropriate case. Pending\\napplication(s), if any, shall stand disposed of.\\n(M.S. RAMACHANDRA RAO) JUDGE (SUKHVINDER KAUR) JUDGE 16.02.2023 Vivek\\n1. Whether speaking/reasoned? Yes\\n2. Whether reportable? Yes Neutral Citation No:=2023:PHHC:029128-DB 36 of 36\\nAjay Kumar Singla & Ors vs State Of Punjab & Ors on 16 February, 2023\\nIndian Kanoon - http://indiankanoon.org/doc/178533926/\\n34\\n',\n",
              "  'page': 33}]"
            ]
          },
          "metadata": {},
          "execution_count": 7
        }
      ]
    },
    {
      "cell_type": "code",
      "source": [
        "legal_data = []\n",
        "text_splitter = RecursiveCharacterTextSplitter(chunk_size=500, chunk_overlap=100)\n",
        "for path, folders, files in os.walk(\"/content/drive/MyDrive/legal_dataset\"):\n",
        "    for file in files:\n",
        "        extracted_pdf = extract_text_from_pdf(os.path.join(path,file))\n",
        "        for page in extracted_pdf:\n",
        "            chunks = text_splitter.split_text(page['text'])\n",
        "            for chunk in chunks:\n",
        "                legal_data.append({\n",
        "                    'chunk' : chunk,\n",
        "                    'page' : page['page'],\n",
        "                    'source' : file\n",
        "                })"
      ],
      "metadata": {
        "id": "kbYj8SjTNbSK"
      },
      "execution_count": null,
      "outputs": []
    },
    {
      "cell_type": "code",
      "source": [
        "legal_data[0], len(legal_data)"
      ],
      "metadata": {
        "colab": {
          "base_uri": "https://localhost:8080/"
        },
        "id": "8mMeLbbNNc76",
        "outputId": "11db8624-5b59-4128-ea5d-03cc0f0f33d7"
      },
      "execution_count": null,
      "outputs": [
        {
          "output_type": "execute_result",
          "data": {
            "text/plain": [
              "({'chunk': 'THE COMMERCIAL COURTS ACT, 2015\\nUNION OF INDIA\\nIndia\\nTHE COMMERCIAL COURTS ACT, 2015\\nAct 04 of 2016\\nPublished in Gazette of India on 31 December 2015\\n• \\nNot commenced\\n• \\n[This is the version of this document from 31 December 2015.]\\n• \\n[Note: The original publication document is not available and this content could not be\\nverified.]\\n• \\nTHE COMMERCIAL COURTS, COMMERCIAL DIVISION AND COMMERCIAL APPELLATE\\nDIVISION OF HIGH COURTS ACT , 2015NO. 4 OF 2016[31st December,2015.]An Act to provide',\n",
              "  'page': 0,\n",
              "  'source': 'THE_COMMERCIAL_COURTS_ACT_2015.PDF'},\n",
              " 68895)"
            ]
          },
          "metadata": {},
          "execution_count": 16
        }
      ]
    },
    {
      "cell_type": "code",
      "source": [
        "!pip install huggingface_hub\n",
        "!huggingface-cli login"
      ],
      "metadata": {
        "colab": {
          "base_uri": "https://localhost:8080/"
        },
        "id": "V3Yf2luBUeA6",
        "outputId": "729cf12f-7990-4e57-e610-a05e2a1dbe96"
      },
      "execution_count": null,
      "outputs": [
        {
          "output_type": "stream",
          "name": "stdout",
          "text": [
            "Requirement already satisfied: huggingface_hub in /usr/local/lib/python3.11/dist-packages (0.28.1)\n",
            "Requirement already satisfied: filelock in /usr/local/lib/python3.11/dist-packages (from huggingface_hub) (3.17.0)\n",
            "Requirement already satisfied: fsspec>=2023.5.0 in /usr/local/lib/python3.11/dist-packages (from huggingface_hub) (2024.10.0)\n",
            "Requirement already satisfied: packaging>=20.9 in /usr/local/lib/python3.11/dist-packages (from huggingface_hub) (24.2)\n",
            "Requirement already satisfied: pyyaml>=5.1 in /usr/local/lib/python3.11/dist-packages (from huggingface_hub) (6.0.2)\n",
            "Requirement already satisfied: requests in /usr/local/lib/python3.11/dist-packages (from huggingface_hub) (2.32.3)\n",
            "Requirement already satisfied: tqdm>=4.42.1 in /usr/local/lib/python3.11/dist-packages (from huggingface_hub) (4.67.1)\n",
            "Requirement already satisfied: typing-extensions>=3.7.4.3 in /usr/local/lib/python3.11/dist-packages (from huggingface_hub) (4.12.2)\n",
            "Requirement already satisfied: charset-normalizer<4,>=2 in /usr/local/lib/python3.11/dist-packages (from requests->huggingface_hub) (3.4.1)\n",
            "Requirement already satisfied: idna<4,>=2.5 in /usr/local/lib/python3.11/dist-packages (from requests->huggingface_hub) (3.10)\n",
            "Requirement already satisfied: urllib3<3,>=1.21.1 in /usr/local/lib/python3.11/dist-packages (from requests->huggingface_hub) (2.3.0)\n",
            "Requirement already satisfied: certifi>=2017.4.17 in /usr/local/lib/python3.11/dist-packages (from requests->huggingface_hub) (2025.1.31)\n",
            "\n",
            "    _|    _|  _|    _|    _|_|_|    _|_|_|  _|_|_|  _|      _|    _|_|_|      _|_|_|_|    _|_|      _|_|_|  _|_|_|_|\n",
            "    _|    _|  _|    _|  _|        _|          _|    _|_|    _|  _|            _|        _|    _|  _|        _|\n",
            "    _|_|_|_|  _|    _|  _|  _|_|  _|  _|_|    _|    _|  _|  _|  _|  _|_|      _|_|_|    _|_|_|_|  _|        _|_|_|\n",
            "    _|    _|  _|    _|  _|    _|  _|    _|    _|    _|    _|_|  _|    _|      _|        _|    _|  _|        _|\n",
            "    _|    _|    _|_|      _|_|_|    _|_|_|  _|_|_|  _|      _|    _|_|_|      _|        _|    _|    _|_|_|  _|_|_|_|\n",
            "\n",
            "    A token is already saved on your machine. Run `huggingface-cli whoami` to get more information or `huggingface-cli logout` if you want to log out.\n",
            "    Setting a new token will erase the existing one.\n",
            "    To log in, `huggingface_hub` requires a token generated from https://huggingface.co/settings/tokens .\n",
            "Enter your token (input will not be visible): \n",
            "Add token as git credential? (Y/n) y\n",
            "Token is valid (permission: fineGrained).\n",
            "The token `Mistral-7B` has been saved to /root/.cache/huggingface/stored_tokens\n",
            "\u001b[1m\u001b[31mCannot authenticate through git-credential as no helper is defined on your machine.\n",
            "You might have to re-authenticate when pushing to the Hugging Face Hub.\n",
            "Run the following command in your terminal in case you want to set the 'store' credential helper as default.\n",
            "\n",
            "git config --global credential.helper store\n",
            "\n",
            "Read https://git-scm.com/book/en/v2/Git-Tools-Credential-Storage for more details.\u001b[0m\n",
            "Token has not been saved to git credential helper.\n",
            "Your token has been saved to /root/.cache/huggingface/token\n",
            "Login successful.\n",
            "The current active token is: `Mistral-7B`\n"
          ]
        }
      ]
    },
    {
      "cell_type": "code",
      "source": [
        "# Load model directly\n",
        "from transformers import AutoTokenizer, AutoModel\n",
        "\n",
        "tokenizer = AutoTokenizer.from_pretrained(\"BAAI/bge-large-en\")\n",
        "model = AutoModel.from_pretrained(\"BAAI/bge-large-en\")\n",
        "\n",
        "device = torch.device(\"cuda\" if torch.cuda.is_available() else \"cpu\")\n",
        "model.to(device)"
      ],
      "metadata": {
        "colab": {
          "base_uri": "https://localhost:8080/"
        },
        "id": "Nc2nro1FPoks",
        "outputId": "1070c638-a61f-451a-b296-d10f4689ad7b"
      },
      "execution_count": null,
      "outputs": [
        {
          "output_type": "execute_result",
          "data": {
            "text/plain": [
              "BertModel(\n",
              "  (embeddings): BertEmbeddings(\n",
              "    (word_embeddings): Embedding(30522, 1024, padding_idx=0)\n",
              "    (position_embeddings): Embedding(512, 1024)\n",
              "    (token_type_embeddings): Embedding(2, 1024)\n",
              "    (LayerNorm): LayerNorm((1024,), eps=1e-12, elementwise_affine=True)\n",
              "    (dropout): Dropout(p=0.1, inplace=False)\n",
              "  )\n",
              "  (encoder): BertEncoder(\n",
              "    (layer): ModuleList(\n",
              "      (0-23): 24 x BertLayer(\n",
              "        (attention): BertAttention(\n",
              "          (self): BertSdpaSelfAttention(\n",
              "            (query): Linear(in_features=1024, out_features=1024, bias=True)\n",
              "            (key): Linear(in_features=1024, out_features=1024, bias=True)\n",
              "            (value): Linear(in_features=1024, out_features=1024, bias=True)\n",
              "            (dropout): Dropout(p=0.1, inplace=False)\n",
              "          )\n",
              "          (output): BertSelfOutput(\n",
              "            (dense): Linear(in_features=1024, out_features=1024, bias=True)\n",
              "            (LayerNorm): LayerNorm((1024,), eps=1e-12, elementwise_affine=True)\n",
              "            (dropout): Dropout(p=0.1, inplace=False)\n",
              "          )\n",
              "        )\n",
              "        (intermediate): BertIntermediate(\n",
              "          (dense): Linear(in_features=1024, out_features=4096, bias=True)\n",
              "          (intermediate_act_fn): GELUActivation()\n",
              "        )\n",
              "        (output): BertOutput(\n",
              "          (dense): Linear(in_features=4096, out_features=1024, bias=True)\n",
              "          (LayerNorm): LayerNorm((1024,), eps=1e-12, elementwise_affine=True)\n",
              "          (dropout): Dropout(p=0.1, inplace=False)\n",
              "        )\n",
              "      )\n",
              "    )\n",
              "  )\n",
              "  (pooler): BertPooler(\n",
              "    (dense): Linear(in_features=1024, out_features=1024, bias=True)\n",
              "    (activation): Tanh()\n",
              "  )\n",
              ")"
            ]
          },
          "metadata": {},
          "execution_count": 18
        }
      ]
    },
    {
      "cell_type": "code",
      "source": [
        "for chunked_data in tqdm(legal_data, total=len(legal_data), desc=\"Embedding Chunks\", unit=\"chunk\"):\n",
        "    # Tokenize\n",
        "    encoded_input = tokenizer(chunked_data['chunk'], return_tensors=\"pt\", truncation=True, padding=True)\n",
        "    encoded_input = {key: value.to(device) for key, value in encoded_input.items()}\n",
        "\n",
        "    # Get embeddings\n",
        "    with torch.no_grad():\n",
        "        output = model(**encoded_input)\n",
        "\n",
        "    # Mean pooling\n",
        "    sentence_embedding = torch.mean(output.last_hidden_state, dim=1).squeeze(0).cpu().numpy()\n",
        "\n",
        "    # Store chunk with metadata\n",
        "    # chunk_data.append({\n",
        "    #     \"chunk\": chunk,                      # Text of the chunk\n",
        "    #     \"embedding\": sentence_embedding,      # Vector representation\n",
        "    #     \"document\": \"example.pdf\",            # Replace with actual PDF name\n",
        "    #     \"page\": 5,                            # Replace with actual page number\n",
        "    #     \"chunk_index\": i                       # Position of chunk within the page\n",
        "    # })\n",
        "    chunked_data['embedding'] = sentence_embedding\n"
      ],
      "metadata": {
        "colab": {
          "base_uri": "https://localhost:8080/"
        },
        "id": "wKfSoJ2KvED8",
        "outputId": "44600c29-551c-49e9-81b6-ffe50ef685f0"
      },
      "execution_count": null,
      "outputs": [
        {
          "output_type": "stream",
          "name": "stderr",
          "text": [
            "Embedding Chunks: 100%|██████████| 68895/68895 [32:34<00:00, 35.26chunk/s]\n"
          ]
        }
      ]
    },
    {
      "cell_type": "code",
      "source": [
        "dimension = legal_data[0]['embedding'].shape[0]\n",
        "index = faiss.IndexFlatL2(dimension)\n",
        "embedding_vectors = np.array([item[\"embedding\"] for item in tqdm(legal_data, total=len(legal_data), desc=\"Embedding Chunks\", unit=\"chunk\")]).astype('float32')\n",
        "\n",
        "index.add(embedding_vectors)\n",
        "\n",
        "faiss.write_index(index, \"faiss_index.bin\")\n",
        "\n",
        "with open(\"metadata.pkl\", \"wb\") as f:\n",
        "    pickle.dump(legal_data, f)"
      ],
      "metadata": {
        "colab": {
          "base_uri": "https://localhost:8080/"
        },
        "id": "MLLbvu_My2xo",
        "outputId": "9164db12-dfd0-43ef-ac81-f1526d1c0248"
      },
      "execution_count": null,
      "outputs": [
        {
          "output_type": "stream",
          "name": "stderr",
          "text": [
            "Embedding Chunks: 100%|██████████| 68895/68895 [00:00<00:00, 1840563.15chunk/s]\n"
          ]
        }
      ]
    },
    {
      "cell_type": "code",
      "source": [
        "index = faiss.read_index(r\"C:\\Users\\shobh\\Downloads\\faiss_index.bin\")\n",
        "\n",
        "with open(r\"C:\\Users\\shobh\\Downloads\\metadata.pkl\", \"rb\") as f:\n",
        "    legal_data = pickle.load(f)\n",
        "\n",
        "\n",
        "tokenizer = AutoTokenizer.from_pretrained(\"BAAI/bge-large-en\")\n",
        "model = AutoModel.from_pretrained(\"BAAI/bge-large-en\").to(\"cuda\" if torch.cuda.is_available() else \"cpu\")\n",
        "\n",
        "def embed_query(query):\n",
        "    encoded_input = tokenizer(query, return_tensors=\"pt\", truncation=True, padding=True).to(\"cuda\" if torch.cuda.is_available() else \"cpu\")\n",
        "    with torch.no_grad():\n",
        "        output = model(**encoded_input)\n",
        "    return torch.mean(output.last_hidden_state, dim=1).squeeze(0).cpu().numpy()\n",
        "\n",
        "query = \"Legality of income tax reassessment under Section 153C\"\n",
        "\n",
        "query_vector = embed_query(query).reshape(1, -1).astype('float32')\n",
        "\n",
        "k = 5  # Number of results\n",
        "distances, indices = index.search(query_vector, k)\n",
        "\n",
        "top_results = [legal_data[i] for i in indices[0]]\n",
        "\n",
        "\n",
        "for i, result in enumerate(top_results):\n",
        "    print(f\"Rank {i+1}\\nSource: {result['source']} \\nPage {result['page']} - {result['chunk'][:200]}...\\n\")"
      ],
      "metadata": {
        "colab": {
          "base_uri": "https://localhost:8080/"
        },
        "id": "KcrnNT8C5A20",
        "outputId": "2fa67821-9e03-45de-d409-0ab3da29f38e"
      },
      "execution_count": null,
      "outputs": [
        {
          "output_type": "stream",
          "name": "stdout",
          "text": [
            "Rank 1\n",
            "Source: Honda_Siel_Power_Products_Limited_vs_The_Deputy_Commissioner_Of_Income_Tax_on_14_February_2011.PDF \n",
            "Page 5 - section 148 of the Act initiating the reassessment proceedings, therefore, could\n",
            "validly be issued till 31-03-2005 in terms of the proviso to section 147 of the Act. In\n",
            "Honda Siel Power Products Limit...\n",
            "\n",
            "Rank 2\n",
            "Source: Pushpa_Rathi_vs_Income_Tax_Officer_Ward_30_1_Anr_on_10_November_2023.PDF \n",
            "Page 35 - under:-\n",
            "                              xxx                                xxx                    \n",
            "                              (iii)      Section 147 proposes to allow the Assessing Off\n",
            "reassess or re...\n",
            "\n",
            "Rank 3\n",
            "Source: Parnika_Rathi_vs_Income_Tax_Officer_Ward_30_1_Delhi_on_10_November_2023.PDF \n",
            "Page 35 - under:-\n",
            "                              xxx                                xxx                    \n",
            "                              (iii)      Section 147 proposes to allow the Assessing Off\n",
            "reassess or re...\n",
            "\n",
            "Rank 4\n",
            "Source: Devendra_Kumar_Saini_vs_Income_Tax_Officer_Ward_28_1_Delhi_And_on_10_November_2023.PDF \n",
            "Page 35 - under:-\n",
            "                              xxx                                xxx                    \n",
            "                              (iii)      Section 147 proposes to allow the Assessing Off\n",
            "reassess or re...\n",
            "\n",
            "Rank 5\n",
            "Source: Hardeep_Singh_vs_Assisstant_Commissioner_Of_Income_Tax_on_10_November_2023.PDF \n",
            "Page 35 - under:-\n",
            "                              xxx                                xxx                    \n",
            "                              (iii)      Section 147 proposes to allow the Assessing Off\n",
            "reassess or re...\n",
            "\n"
          ]
        }
      ]
    },
    {
      "cell_type": "code",
      "source": [
        "legal_data[:10]"
      ],
      "metadata": {
        "colab": {
          "base_uri": "https://localhost:8080/"
        },
        "id": "5BtfnZuriD36",
        "outputId": "f6165037-2fae-4d1e-8d33-64d6c7954034"
      },
      "execution_count": null,
      "outputs": [
        {
          "output_type": "execute_result",
          "data": {
            "text/plain": [
              "[{'chunk': 'THE COMMERCIAL COURTS ACT, 2015\\nUNION OF INDIA\\nIndia\\nTHE COMMERCIAL COURTS ACT, 2015\\nAct 04 of 2016\\nPublished in Gazette of India on 31 December 2015\\n• \\nNot commenced\\n• \\n[This is the version of this document from 31 December 2015.]\\n• \\n[Note: The original publication document is not available and this content could not be\\nverified.]\\n• \\nTHE COMMERCIAL COURTS, COMMERCIAL DIVISION AND COMMERCIAL APPELLATE\\nDIVISION OF HIGH COURTS ACT , 2015NO. 4 OF 2016[31st December,2015.]An Act to provide',\n",
              "  'page': 0,\n",
              "  'source': 'THE_COMMERCIAL_COURTS_ACT_2015.PDF',\n",
              "  'embedding': array([-0.7368621 , -0.5636795 , -0.33564132, ...,  0.47133026,\n",
              "         -0.20095436, -0.67343414], dtype=float32)},\n",
              " {'chunk': 'DIVISION OF HIGH COURTS ACT , 2015NO. 4 OF 2016[31st December,2015.]An Act to provide\\nfor the constitution of Commercial Courts, Commercial Division and Commercial Appellate Division\\nin the High Courts for adjudicating commercial disputes of specified value and matters connected\\ntherewith or incidental thereto.BE it enacted by Parliament in the Sixty-sixthYear of the Republic of\\nIndia as follows:—\\nChapter I\\nPRELIMINARY\\n1.',\n",
              "  'page': 0,\n",
              "  'source': 'THE_COMMERCIAL_COURTS_ACT_2015.PDF',\n",
              "  'embedding': array([-0.50805455, -0.57555217, -0.19240479, ...,  0.44514006,\n",
              "         -0.3468024 , -0.47695854], dtype=float32)},\n",
              " {'chunk': 'India as follows:—\\nChapter I\\nPRELIMINARY\\n1.\\n(1)This Act may be called the Commercial Courts, Commercial Division and Commercial Appellate\\nDivision of High Courts Act, 2015.(2)It extends to the whole of India except the State of Jammu and\\nKashmir.(3)It shall be deemed to have come into force on the 23rd day of October, 2015.\\n2. Definitions.\\n(1)In this Act, unless the context otherwise requires,––(a)“Commercial Appellate Division” means',\n",
              "  'page': 0,\n",
              "  'source': 'THE_COMMERCIAL_COURTS_ACT_2015.PDF',\n",
              "  'embedding': array([-0.6207725 , -0.25927615, -0.3027616 , ..., -0.01314202,\n",
              "         -0.52628815, -0.37451196], dtype=float32)},\n",
              " {'chunk': '(1)In this Act, unless the context otherwise requires,––(a)“Commercial Appellate Division” means\\nthe Commercial Appellate Division in a High Court constituted under sub-section (1) of section\\n5;(b)“Commercial Court” means the Commercial Court constituted under sub-section (1) of section\\n3;(c)“commercial dispute” means a dispute arising out of––(i)ordinary transactions of merchants,\\nbankers, financiers and traders such as those relating to mercantile documents, including',\n",
              "  'page': 0,\n",
              "  'source': 'THE_COMMERCIAL_COURTS_ACT_2015.PDF',\n",
              "  'embedding': array([-0.30146742, -0.13970825, -0.20688114, ...,  0.32968062,\n",
              "         -0.09763002, -0.55952054], dtype=float32)},\n",
              " {'chunk': 'bankers, financiers and traders such as those relating to mercantile documents, including\\nenforcement and interpretation of such documents;(ii)export or import of merchandise or\\nservices;(iii)issues relating to admiralty and maritime law;(iv)transactions relating to aircraft,\\naircraft engines, aircraft equipment and helicopters, including sales, leasing and financing of the\\nsame;(v)carriage of goods;(vi)construction and infrastructure contracts, including\\nTHE COMMERCIAL COURTS ACT, 2015',\n",
              "  'page': 0,\n",
              "  'source': 'THE_COMMERCIAL_COURTS_ACT_2015.PDF',\n",
              "  'embedding': array([ 0.06720793, -0.17252186,  0.09429736, ..., -0.16426206,\n",
              "         -0.07772437, -0.3019629 ], dtype=float32)},\n",
              " {'chunk': 'THE COMMERCIAL COURTS ACT, 2015\\nIndian Kanoon - http://indiankanoon.org/doc/84117459/\\n1',\n",
              "  'page': 0,\n",
              "  'source': 'THE_COMMERCIAL_COURTS_ACT_2015.PDF',\n",
              "  'embedding': array([-0.09945861,  0.05593728, -0.26429886, ...,  0.2533406 ,\n",
              "         -0.23801489, -0.34854996], dtype=float32)},\n",
              " {'chunk': 'tenders;(vii)agreements relating to immovable property used exclusively in trade or\\ncommerce;(viii)franchising agreements;(ix)distribution and licensing agreements;(x)management\\nand consultancy agreements;(xi)joint venture agreements;(xii)shareholders\\nagreements;(xiii)subscription and investment agreements pertaining to the services industry\\nincluding outsourcing services and financial services;(xiv)mercantile agency and mercantile',\n",
              "  'page': 1,\n",
              "  'source': 'THE_COMMERCIAL_COURTS_ACT_2015.PDF',\n",
              "  'embedding': array([ 0.22986545,  0.04960807, -0.14644946, ...,  0.07081591,\n",
              "         -0.4708213 ,  0.10447026], dtype=float32)},\n",
              " {'chunk': 'including outsourcing services and financial services;(xiv)mercantile agency and mercantile\\nusage;(xv)partnership agreements;(xvi)technology development agreements;(xvii)intellectual\\nproperty rights relating to registered and unregistered trademarks, copyright, patent, design,\\ndomain names, geographical indications and semiconductor integrated circuits;(xviii)agreements\\nfor sale of goods or provision of services;(xix)exploitation of oil and gas reserves or other natural',\n",
              "  'page': 1,\n",
              "  'source': 'THE_COMMERCIAL_COURTS_ACT_2015.PDF',\n",
              "  'embedding': array([-0.10057495, -0.22180375, -0.21070772, ..., -0.153372  ,\n",
              "         -0.17556423, -0.10094754], dtype=float32)},\n",
              " {'chunk': 'resources including electromagnetic spectrum;(xx)insurance and re-insurance;(xxi)contracts of\\nagency relating to any of the above; and(xxii)such other commercial disputes as may be notified by\\nthe Central Government.Explanation.––A commercial dispute shall not cease to be a commercial\\ndispute merely because-—(a)it also involves action for recovery of immovable property or for\\nrealisation of monies out of immovable property given as security or involves any other relief',\n",
              "  'page': 1,\n",
              "  'source': 'THE_COMMERCIAL_COURTS_ACT_2015.PDF',\n",
              "  'embedding': array([-0.25444528, -0.12155458, -0.24067442, ...,  0.11801269,\n",
              "         -0.19399264, -0.2655823 ], dtype=float32)},\n",
              " {'chunk': 'realisation of monies out of immovable property given as security or involves any other relief\\npertaining to immovable property;(b)one of the contracting parties is the State or any of its agencies\\nor instrumentalities, or a private body carrying out public functions;(d)“Commercial Division”\\nmeans the Commercial Division in a High Court constituted under sub-section (1) of section\\n4;(e)“District Judge” shall have the same meaning as assigned to it in clause (a) of article 236 of the',\n",
              "  'page': 1,\n",
              "  'source': 'THE_COMMERCIAL_COURTS_ACT_2015.PDF',\n",
              "  'embedding': array([-0.40882802, -0.26557162, -0.17301838, ..., -0.04759493,\n",
              "         -0.11329859, -0.07166595], dtype=float32)}]"
            ]
          },
          "metadata": {},
          "execution_count": 8
        }
      ]
    },
    {
      "cell_type": "code",
      "source": [
        "import nltk\n",
        "nltk.download('punkt_tab')\n"
      ],
      "metadata": {
        "colab": {
          "base_uri": "https://localhost:8080/"
        },
        "id": "LVxQqdBHtPIT",
        "outputId": "f0826f88-7256-4bd7-cd1d-5e2090bff577"
      },
      "execution_count": null,
      "outputs": [
        {
          "output_type": "stream",
          "name": "stderr",
          "text": [
            "[nltk_data] Downloading package punkt_tab to\n",
            "[nltk_data]     C:\\Users\\shobh\\AppData\\Roaming\\nltk_data...\n",
            "[nltk_data]   Unzipping tokenizers\\punkt_tab.zip.\n"
          ]
        },
        {
          "output_type": "execute_result",
          "data": {
            "text/plain": [
              "True"
            ]
          },
          "metadata": {},
          "execution_count": 8
        }
      ]
    },
    {
      "cell_type": "code",
      "source": [],
      "metadata": {
        "id": "V7wmFQuKseLm"
      },
      "execution_count": null,
      "outputs": []
    }
  ]
}